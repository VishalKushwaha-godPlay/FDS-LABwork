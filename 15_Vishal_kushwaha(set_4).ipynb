{
  "nbformat": 4,
  "nbformat_minor": 0,
  "metadata": {
    "colab": {
      "name": "15_Vishal_kushwaha(set_4).ipynb",
      "provenance": [],
      "collapsed_sections": [],
      "authorship_tag": "ABX9TyNi6Qaxw6YjccXVLqcTVHv4",
      "include_colab_link": true
    },
    "kernelspec": {
      "name": "python3",
      "display_name": "Python 3"
    },
    "language_info": {
      "name": "python"
    }
  },
  "cells": [
    {
      "cell_type": "markdown",
      "metadata": {
        "id": "view-in-github",
        "colab_type": "text"
      },
      "source": [
        "<a href=\"https://colab.research.google.com/github/VishalKushwaha-godPlay/FDS-LABwork/blob/main/15_Vishal_kushwaha(set_4).ipynb\" target=\"_parent\"><img src=\"https://colab.research.google.com/assets/colab-badge.svg\" alt=\"Open In Colab\"/></a>"
      ]
    },
    {
      "cell_type": "code",
      "metadata": {
        "id": "ImM_sMfqIbIq"
      },
      "source": [
        "#vishal Kushwaha\n",
        "#Roll no.15\n",
        "# importing the required librabry\n",
        "\n",
        "import numpy as np\n",
        "import pandas as pd\n",
        "import matplotlib.pylab as plt\n",
        "%matplotlib inline\n",
        "from matplotlib.pylab import rcParams\n",
        "from datetime import datetime\n",
        "import seaborn as sns\n"
      ],
      "execution_count": 38,
      "outputs": []
    },
    {
      "cell_type": "markdown",
      "metadata": {
        "id": "Z7bfziQuN11E"
      },
      "source": [
        "**Q. 1. Solve the following questions. (5 Marks each).**\n",
        "\n",
        "A.Check dataset records using various functions and Display the structure of the dataset.\n"
      ]
    },
    {
      "cell_type": "code",
      "metadata": {
        "colab": {
          "base_uri": "https://localhost:8080/",
          "height": 419
        },
        "id": "j3OJoKWXLrCD",
        "outputId": "fc2de47a-46ee-4a23-fb79-56d960b24502"
      },
      "source": [
        "#Reading the dataset and creating a dataframe for it\n",
        "import pandas as pd\n",
        "location=\"/content/sampleDataset.xlsx\"\n",
        "df= pd.read_excel(location)\n",
        "df"
      ],
      "execution_count": 2,
      "outputs": [
        {
          "output_type": "execute_result",
          "data": {
            "text/html": [
              "<div>\n",
              "<style scoped>\n",
              "    .dataframe tbody tr th:only-of-type {\n",
              "        vertical-align: middle;\n",
              "    }\n",
              "\n",
              "    .dataframe tbody tr th {\n",
              "        vertical-align: top;\n",
              "    }\n",
              "\n",
              "    .dataframe thead th {\n",
              "        text-align: right;\n",
              "    }\n",
              "</style>\n",
              "<table border=\"1\" class=\"dataframe\">\n",
              "  <thead>\n",
              "    <tr style=\"text-align: right;\">\n",
              "      <th></th>\n",
              "      <th>sepal.length</th>\n",
              "      <th>sepal.width</th>\n",
              "      <th>petal.length</th>\n",
              "      <th>petal.width</th>\n",
              "      <th>variety</th>\n",
              "    </tr>\n",
              "  </thead>\n",
              "  <tbody>\n",
              "    <tr>\n",
              "      <th>0</th>\n",
              "      <td>5.1</td>\n",
              "      <td>3.5</td>\n",
              "      <td>1.4</td>\n",
              "      <td>0.2</td>\n",
              "      <td>Sunflower</td>\n",
              "    </tr>\n",
              "    <tr>\n",
              "      <th>1</th>\n",
              "      <td>4.9</td>\n",
              "      <td>3.0</td>\n",
              "      <td>1.4</td>\n",
              "      <td>0.2</td>\n",
              "      <td>Sunflower</td>\n",
              "    </tr>\n",
              "    <tr>\n",
              "      <th>2</th>\n",
              "      <td>4.7</td>\n",
              "      <td>3.2</td>\n",
              "      <td>1.3</td>\n",
              "      <td>0.2</td>\n",
              "      <td>Sunflower</td>\n",
              "    </tr>\n",
              "    <tr>\n",
              "      <th>3</th>\n",
              "      <td>4.6</td>\n",
              "      <td>3.1</td>\n",
              "      <td>1.5</td>\n",
              "      <td>0.2</td>\n",
              "      <td>Sunflower</td>\n",
              "    </tr>\n",
              "    <tr>\n",
              "      <th>4</th>\n",
              "      <td>5.0</td>\n",
              "      <td>3.6</td>\n",
              "      <td>1.4</td>\n",
              "      <td>0.2</td>\n",
              "      <td>Sunflower</td>\n",
              "    </tr>\n",
              "    <tr>\n",
              "      <th>...</th>\n",
              "      <td>...</td>\n",
              "      <td>...</td>\n",
              "      <td>...</td>\n",
              "      <td>...</td>\n",
              "      <td>...</td>\n",
              "    </tr>\n",
              "    <tr>\n",
              "      <th>145</th>\n",
              "      <td>6.7</td>\n",
              "      <td>3.0</td>\n",
              "      <td>5.2</td>\n",
              "      <td>2.3</td>\n",
              "      <td>MariGold</td>\n",
              "    </tr>\n",
              "    <tr>\n",
              "      <th>146</th>\n",
              "      <td>6.3</td>\n",
              "      <td>2.5</td>\n",
              "      <td>5.0</td>\n",
              "      <td>1.9</td>\n",
              "      <td>MariGold</td>\n",
              "    </tr>\n",
              "    <tr>\n",
              "      <th>147</th>\n",
              "      <td>6.5</td>\n",
              "      <td>3.0</td>\n",
              "      <td>5.2</td>\n",
              "      <td>2.0</td>\n",
              "      <td>MariGold</td>\n",
              "    </tr>\n",
              "    <tr>\n",
              "      <th>148</th>\n",
              "      <td>6.2</td>\n",
              "      <td>3.4</td>\n",
              "      <td>5.4</td>\n",
              "      <td>2.3</td>\n",
              "      <td>MariGold</td>\n",
              "    </tr>\n",
              "    <tr>\n",
              "      <th>149</th>\n",
              "      <td>5.9</td>\n",
              "      <td>3.0</td>\n",
              "      <td>5.1</td>\n",
              "      <td>1.8</td>\n",
              "      <td>MariGold</td>\n",
              "    </tr>\n",
              "  </tbody>\n",
              "</table>\n",
              "<p>150 rows × 5 columns</p>\n",
              "</div>"
            ],
            "text/plain": [
              "     sepal.length  sepal.width  petal.length  petal.width    variety\n",
              "0             5.1          3.5           1.4          0.2  Sunflower\n",
              "1             4.9          3.0           1.4          0.2  Sunflower\n",
              "2             4.7          3.2           1.3          0.2  Sunflower\n",
              "3             4.6          3.1           1.5          0.2  Sunflower\n",
              "4             5.0          3.6           1.4          0.2  Sunflower\n",
              "..            ...          ...           ...          ...        ...\n",
              "145           6.7          3.0           5.2          2.3   MariGold\n",
              "146           6.3          2.5           5.0          1.9   MariGold\n",
              "147           6.5          3.0           5.2          2.0   MariGold\n",
              "148           6.2          3.4           5.4          2.3   MariGold\n",
              "149           5.9          3.0           5.1          1.8   MariGold\n",
              "\n",
              "[150 rows x 5 columns]"
            ]
          },
          "metadata": {
            "tags": []
          },
          "execution_count": 2
        }
      ]
    },
    {
      "cell_type": "markdown",
      "metadata": {
        "id": "2YjyLF8cOeqH"
      },
      "source": [
        "Checking the dataset using various functions\n"
      ]
    },
    {
      "cell_type": "code",
      "metadata": {
        "colab": {
          "base_uri": "https://localhost:8080/",
          "height": 0
        },
        "id": "7TnmT8GPOQO1",
        "outputId": "7c3fff0e-232f-4ac2-d85d-982844a4bbad"
      },
      "source": [
        "#size of the dataset\n",
        "df.size\n"
      ],
      "execution_count": 5,
      "outputs": [
        {
          "output_type": "stream",
          "text": [
            "750\n"
          ],
          "name": "stdout"
        }
      ]
    },
    {
      "cell_type": "code",
      "metadata": {
        "colab": {
          "base_uri": "https://localhost:8080/",
          "height": 359
        },
        "id": "92kL0Wd-OmuC",
        "outputId": "d96b4851-05c2-4c6c-b1f3-9c858e07c24d"
      },
      "source": [
        "#display first 10 records of the dataset\n",
        "df.head(10)"
      ],
      "execution_count": 7,
      "outputs": [
        {
          "output_type": "execute_result",
          "data": {
            "text/html": [
              "<div>\n",
              "<style scoped>\n",
              "    .dataframe tbody tr th:only-of-type {\n",
              "        vertical-align: middle;\n",
              "    }\n",
              "\n",
              "    .dataframe tbody tr th {\n",
              "        vertical-align: top;\n",
              "    }\n",
              "\n",
              "    .dataframe thead th {\n",
              "        text-align: right;\n",
              "    }\n",
              "</style>\n",
              "<table border=\"1\" class=\"dataframe\">\n",
              "  <thead>\n",
              "    <tr style=\"text-align: right;\">\n",
              "      <th></th>\n",
              "      <th>sepal.length</th>\n",
              "      <th>sepal.width</th>\n",
              "      <th>petal.length</th>\n",
              "      <th>petal.width</th>\n",
              "      <th>variety</th>\n",
              "    </tr>\n",
              "  </thead>\n",
              "  <tbody>\n",
              "    <tr>\n",
              "      <th>0</th>\n",
              "      <td>5.1</td>\n",
              "      <td>3.5</td>\n",
              "      <td>1.4</td>\n",
              "      <td>0.2</td>\n",
              "      <td>Sunflower</td>\n",
              "    </tr>\n",
              "    <tr>\n",
              "      <th>1</th>\n",
              "      <td>4.9</td>\n",
              "      <td>3.0</td>\n",
              "      <td>1.4</td>\n",
              "      <td>0.2</td>\n",
              "      <td>Sunflower</td>\n",
              "    </tr>\n",
              "    <tr>\n",
              "      <th>2</th>\n",
              "      <td>4.7</td>\n",
              "      <td>3.2</td>\n",
              "      <td>1.3</td>\n",
              "      <td>0.2</td>\n",
              "      <td>Sunflower</td>\n",
              "    </tr>\n",
              "    <tr>\n",
              "      <th>3</th>\n",
              "      <td>4.6</td>\n",
              "      <td>3.1</td>\n",
              "      <td>1.5</td>\n",
              "      <td>0.2</td>\n",
              "      <td>Sunflower</td>\n",
              "    </tr>\n",
              "    <tr>\n",
              "      <th>4</th>\n",
              "      <td>5.0</td>\n",
              "      <td>3.6</td>\n",
              "      <td>1.4</td>\n",
              "      <td>0.2</td>\n",
              "      <td>Sunflower</td>\n",
              "    </tr>\n",
              "    <tr>\n",
              "      <th>5</th>\n",
              "      <td>5.4</td>\n",
              "      <td>3.9</td>\n",
              "      <td>1.7</td>\n",
              "      <td>0.4</td>\n",
              "      <td>Sunflower</td>\n",
              "    </tr>\n",
              "    <tr>\n",
              "      <th>6</th>\n",
              "      <td>4.6</td>\n",
              "      <td>3.4</td>\n",
              "      <td>1.4</td>\n",
              "      <td>0.3</td>\n",
              "      <td>Sunflower</td>\n",
              "    </tr>\n",
              "    <tr>\n",
              "      <th>7</th>\n",
              "      <td>5.0</td>\n",
              "      <td>3.4</td>\n",
              "      <td>1.5</td>\n",
              "      <td>0.2</td>\n",
              "      <td>Sunflower</td>\n",
              "    </tr>\n",
              "    <tr>\n",
              "      <th>8</th>\n",
              "      <td>4.4</td>\n",
              "      <td>2.9</td>\n",
              "      <td>1.4</td>\n",
              "      <td>0.2</td>\n",
              "      <td>Sunflower</td>\n",
              "    </tr>\n",
              "    <tr>\n",
              "      <th>9</th>\n",
              "      <td>4.9</td>\n",
              "      <td>3.1</td>\n",
              "      <td>1.5</td>\n",
              "      <td>0.1</td>\n",
              "      <td>Sunflower</td>\n",
              "    </tr>\n",
              "  </tbody>\n",
              "</table>\n",
              "</div>"
            ],
            "text/plain": [
              "   sepal.length  sepal.width  petal.length  petal.width    variety\n",
              "0           5.1          3.5           1.4          0.2  Sunflower\n",
              "1           4.9          3.0           1.4          0.2  Sunflower\n",
              "2           4.7          3.2           1.3          0.2  Sunflower\n",
              "3           4.6          3.1           1.5          0.2  Sunflower\n",
              "4           5.0          3.6           1.4          0.2  Sunflower\n",
              "5           5.4          3.9           1.7          0.4  Sunflower\n",
              "6           4.6          3.4           1.4          0.3  Sunflower\n",
              "7           5.0          3.4           1.5          0.2  Sunflower\n",
              "8           4.4          2.9           1.4          0.2  Sunflower\n",
              "9           4.9          3.1           1.5          0.1  Sunflower"
            ]
          },
          "metadata": {
            "tags": []
          },
          "execution_count": 7
        }
      ]
    },
    {
      "cell_type": "code",
      "metadata": {
        "colab": {
          "base_uri": "https://localhost:8080/",
          "height": 359
        },
        "id": "tr8hEU5OPJl7",
        "outputId": "aa650d03-e6fc-4490-9fef-c06417440f0c"
      },
      "source": [
        "#display last 10 records of the dataset\n",
        "df.tail(10)"
      ],
      "execution_count": 8,
      "outputs": [
        {
          "output_type": "execute_result",
          "data": {
            "text/html": [
              "<div>\n",
              "<style scoped>\n",
              "    .dataframe tbody tr th:only-of-type {\n",
              "        vertical-align: middle;\n",
              "    }\n",
              "\n",
              "    .dataframe tbody tr th {\n",
              "        vertical-align: top;\n",
              "    }\n",
              "\n",
              "    .dataframe thead th {\n",
              "        text-align: right;\n",
              "    }\n",
              "</style>\n",
              "<table border=\"1\" class=\"dataframe\">\n",
              "  <thead>\n",
              "    <tr style=\"text-align: right;\">\n",
              "      <th></th>\n",
              "      <th>sepal.length</th>\n",
              "      <th>sepal.width</th>\n",
              "      <th>petal.length</th>\n",
              "      <th>petal.width</th>\n",
              "      <th>variety</th>\n",
              "    </tr>\n",
              "  </thead>\n",
              "  <tbody>\n",
              "    <tr>\n",
              "      <th>140</th>\n",
              "      <td>6.7</td>\n",
              "      <td>3.1</td>\n",
              "      <td>5.6</td>\n",
              "      <td>2.4</td>\n",
              "      <td>MariGold</td>\n",
              "    </tr>\n",
              "    <tr>\n",
              "      <th>141</th>\n",
              "      <td>6.9</td>\n",
              "      <td>3.1</td>\n",
              "      <td>5.1</td>\n",
              "      <td>2.3</td>\n",
              "      <td>MariGold</td>\n",
              "    </tr>\n",
              "    <tr>\n",
              "      <th>142</th>\n",
              "      <td>5.8</td>\n",
              "      <td>2.7</td>\n",
              "      <td>5.1</td>\n",
              "      <td>1.9</td>\n",
              "      <td>MariGold</td>\n",
              "    </tr>\n",
              "    <tr>\n",
              "      <th>143</th>\n",
              "      <td>6.8</td>\n",
              "      <td>3.2</td>\n",
              "      <td>5.9</td>\n",
              "      <td>2.3</td>\n",
              "      <td>MariGold</td>\n",
              "    </tr>\n",
              "    <tr>\n",
              "      <th>144</th>\n",
              "      <td>6.7</td>\n",
              "      <td>3.3</td>\n",
              "      <td>5.7</td>\n",
              "      <td>2.5</td>\n",
              "      <td>MariGold</td>\n",
              "    </tr>\n",
              "    <tr>\n",
              "      <th>145</th>\n",
              "      <td>6.7</td>\n",
              "      <td>3.0</td>\n",
              "      <td>5.2</td>\n",
              "      <td>2.3</td>\n",
              "      <td>MariGold</td>\n",
              "    </tr>\n",
              "    <tr>\n",
              "      <th>146</th>\n",
              "      <td>6.3</td>\n",
              "      <td>2.5</td>\n",
              "      <td>5.0</td>\n",
              "      <td>1.9</td>\n",
              "      <td>MariGold</td>\n",
              "    </tr>\n",
              "    <tr>\n",
              "      <th>147</th>\n",
              "      <td>6.5</td>\n",
              "      <td>3.0</td>\n",
              "      <td>5.2</td>\n",
              "      <td>2.0</td>\n",
              "      <td>MariGold</td>\n",
              "    </tr>\n",
              "    <tr>\n",
              "      <th>148</th>\n",
              "      <td>6.2</td>\n",
              "      <td>3.4</td>\n",
              "      <td>5.4</td>\n",
              "      <td>2.3</td>\n",
              "      <td>MariGold</td>\n",
              "    </tr>\n",
              "    <tr>\n",
              "      <th>149</th>\n",
              "      <td>5.9</td>\n",
              "      <td>3.0</td>\n",
              "      <td>5.1</td>\n",
              "      <td>1.8</td>\n",
              "      <td>MariGold</td>\n",
              "    </tr>\n",
              "  </tbody>\n",
              "</table>\n",
              "</div>"
            ],
            "text/plain": [
              "     sepal.length  sepal.width  petal.length  petal.width   variety\n",
              "140           6.7          3.1           5.6          2.4  MariGold\n",
              "141           6.9          3.1           5.1          2.3  MariGold\n",
              "142           5.8          2.7           5.1          1.9  MariGold\n",
              "143           6.8          3.2           5.9          2.3  MariGold\n",
              "144           6.7          3.3           5.7          2.5  MariGold\n",
              "145           6.7          3.0           5.2          2.3  MariGold\n",
              "146           6.3          2.5           5.0          1.9  MariGold\n",
              "147           6.5          3.0           5.2          2.0  MariGold\n",
              "148           6.2          3.4           5.4          2.3  MariGold\n",
              "149           5.9          3.0           5.1          1.8  MariGold"
            ]
          },
          "metadata": {
            "tags": []
          },
          "execution_count": 8
        }
      ]
    },
    {
      "cell_type": "code",
      "metadata": {
        "colab": {
          "base_uri": "https://localhost:8080/",
          "height": 0
        },
        "id": "KCg-L3epPWd8",
        "outputId": "165e22af-db66-4849-d977-e1d8f7f1249b"
      },
      "source": [
        "#checking columns of the dataset\n",
        "df.columns"
      ],
      "execution_count": 9,
      "outputs": [
        {
          "output_type": "execute_result",
          "data": {
            "text/plain": [
              "Index(['sepal.length', 'sepal.width', 'petal.length', 'petal.width',\n",
              "       'variety'],\n",
              "      dtype='object')"
            ]
          },
          "metadata": {
            "tags": []
          },
          "execution_count": 9
        }
      ]
    },
    {
      "cell_type": "markdown",
      "metadata": {
        "id": "yjkUN3smPdl3"
      },
      "source": [
        "**B.Display data type of some columns of dataset.**\n"
      ]
    },
    {
      "cell_type": "code",
      "metadata": {
        "colab": {
          "base_uri": "https://localhost:8080/",
          "height": 0
        },
        "id": "dlwl89nvPao3",
        "outputId": "1f7efbef-4058-49b6-afb6-9f14dab8f627"
      },
      "source": [
        "#datatypes of each column of the dataset\n",
        "df.dtypes"
      ],
      "execution_count": 10,
      "outputs": [
        {
          "output_type": "execute_result",
          "data": {
            "text/plain": [
              "sepal.length    float64\n",
              "sepal.width     float64\n",
              "petal.length    float64\n",
              "petal.width     float64\n",
              "variety          object\n",
              "dtype: object"
            ]
          },
          "metadata": {
            "tags": []
          },
          "execution_count": 10
        }
      ]
    },
    {
      "cell_type": "code",
      "metadata": {
        "colab": {
          "base_uri": "https://localhost:8080/",
          "height": 0
        },
        "id": "IVjL-T3RP3ez",
        "outputId": "f11a2175-3cb9-499a-9afd-c57e787df6f1"
      },
      "source": [
        "#datatype of perticular column\n",
        "df1=df['sepal.length']\n",
        "df1.dtypes"
      ],
      "execution_count": 12,
      "outputs": [
        {
          "output_type": "execute_result",
          "data": {
            "text/plain": [
              "dtype('float64')"
            ]
          },
          "metadata": {
            "tags": []
          },
          "execution_count": 12
        }
      ]
    },
    {
      "cell_type": "markdown",
      "metadata": {
        "id": "IfYTuuXhQW0b"
      },
      "source": [
        "**C.For all numeric variables, Provide box & whisker plot.**\n",
        "\n",
        "For making box and and whisker plot we will be eliminating all the non-significant columns such as id and alphanumeric columns "
      ]
    },
    {
      "cell_type": "code",
      "metadata": {
        "colab": {
          "base_uri": "https://localhost:8080/",
          "height": 1123
        },
        "id": "H_gBqGXOQTaV",
        "outputId": "af09c760-34c1-47d3-dc9d-a965b519486d"
      },
      "source": [
        "print('\\n*** Boxplot ***')\n",
        "colNames = df.columns.tolist()\n",
        "for colName in colNames:\n",
        "    if df[colName].dtype == \"object\": \n",
        "        continue\n",
        "    plt.figure()\n",
        "    sns.boxplot(y=df[colName], color='b')\n",
        "    plt.title(colName)\n",
        "    plt.ylabel(colName)\n",
        "    plt.xlabel('Bins')\n",
        "    plt.show()\n"
      ],
      "execution_count": 13,
      "outputs": [
        {
          "output_type": "stream",
          "text": [
            "\n",
            "*** Boxplot ***\n"
          ],
          "name": "stdout"
        },
        {
          "output_type": "display_data",
          "data": {
            "image/png": "[encoded data removed]",
            "text/plain": [
              "<Figure size 432x288 with 1 Axes>"
            ]
          },
          "metadata": {
            "tags": [],
            "needs_background": "light"
          }
        },
        {
          "output_type": "display_data",
          "data": {
            "image/png": "[encoded data removed]",
            "text/plain": [
              "<Figure size 432x288 with 1 Axes>"
            ]
          },
          "metadata": {
            "tags": [],
            "needs_background": "light"
          }
        },
        {
          "output_type": "display_data",
          "data": {
            "image/png": "[encoded data removed]",
            "text/plain": [
              "<Figure size 432x288 with 1 Axes>"
            ]
          },
          "metadata": {
            "tags": [],
            "needs_background": "light"
          }
        },
        {
          "output_type": "display_data",
          "data": {
            "image/png": "[encoded data removed]",
            "text/plain": [
              "<Figure size 432x288 with 1 Axes>"
            ]
          },
          "metadata": {
            "tags": [],
            "needs_background": "light"
          }
        }
      ]
    },
    {
      "cell_type": "markdown",
      "metadata": {
        "id": "OHAl7YcJSM5y"
      },
      "source": [
        "**D.For all numeric variables, provide correlation table & graph based on the correlation table, Provide scatter plot for relevant columns.**\n",
        "\n",
        "A correlation matrix is simply a table which displays the correlation of all the variables\n"
      ]
    },
    {
      "cell_type": "code",
      "metadata": {
        "colab": {
          "base_uri": "https://localhost:8080/",
          "height": 0
        },
        "id": "PWsHdcumSMZg",
        "outputId": "7c4e7487-e539-4c71-a62a-f95135c22f20"
      },
      "source": [
        "#Co-relation table for the given dataset\n",
        "print(\"\\n*** Correlation Table ***\")\n",
        "pd.options.display.float_format = '{:,.2f}'.format\n",
        "print(df.corr())\n"
      ],
      "execution_count": 14,
      "outputs": [
        {
          "output_type": "stream",
          "text": [
            "\n",
            "*** Correlation Table ***\n",
            "              sepal.length  sepal.width  petal.length  petal.width\n",
            "sepal.length          1.00        -0.12          0.87         0.82\n",
            "sepal.width          -0.12         1.00         -0.43        -0.37\n",
            "petal.length          0.87        -0.43          1.00         0.96\n",
            "petal.width           0.82        -0.37          0.96         1.00\n"
          ],
          "name": "stdout"
        }
      ]
    },
    {
      "cell_type": "code",
      "metadata": {
        "colab": {
          "base_uri": "https://localhost:8080/",
          "height": 487
        },
        "id": "lejmRcIdTGA2",
        "outputId": "014656f6-948b-4848-fd63-cde2523af3c6"
      },
      "source": [
        "#heatmap of the given co-relation table\n",
        "plt.figure(figsize=(8,8))\n",
        "ax = sns.heatmap(df.corr(), annot=True, cmap=\"PiYG\")\n",
        "bottom, top = ax.get_ylim()\n",
        "ax.set_ylim(bottom+0.5, top-0.5)\n",
        "plt.show()"
      ],
      "execution_count": 41,
      "outputs": [
        {
          "output_type": "display_data",
          "data": {
            "image/png": "[encoded data removed]",
            "text/plain": [
              "<Figure size 576x576 with 2 Axes>"
            ]
          },
          "metadata": {
            "tags": [],
            "needs_background": "light"
          }
        }
      ]
    },
    {
      "cell_type": "code",
      "metadata": {
        "colab": {
          "base_uri": "https://localhost:8080/",
          "height": 1146
        },
        "id": "-ma4nvLwT1U-",
        "outputId": "d996758a-2e49-4e86-b8f6-98288de00868"
      },
      "source": [
        "#scatterplot for all the significant columns\n",
        "colNames = df.columns.tolist()\n",
        "print(colName)\n",
        "for colName in colNames:\n",
        "    if df[colName].dtype == \"object\": \n",
        "        continue\n",
        "    colValues = df[colName].values\n",
        "    plt.figure()\n",
        "    sns.regplot(data=df, x=df['sepal.length'], y=colName, color= 'b', scatter_kws={\"s\": 5})\n",
        "    plt.title(colName + ' v/s ' + colName)\n",
        "    plt.show()\n"
      ],
      "execution_count": 39,
      "outputs": [
        {
          "output_type": "stream",
          "text": [
            "variety\n"
          ],
          "name": "stdout"
        },
        {
          "output_type": "display_data",
          "data": {
            "image/png": "[encoded data removed]",
            "text/plain": [
              "<Figure size 432x288 with 1 Axes>"
            ]
          },
          "metadata": {
            "tags": [],
            "needs_background": "light"
          }
        },
        {
          "output_type": "display_data",
          "data": {
            "image/png": "[encoded data removed]",
            "text/plain": [
              "<Figure size 432x288 with 1 Axes>"
            ]
          },
          "metadata": {
            "tags": [],
            "needs_background": "light"
          }
        },
        {
          "output_type": "display_data",
          "data": {
            "image/png": "[encoded data removed]",
            "text/plain": [
              "<Figure size 432x288 with 1 Axes>"
            ]
          },
          "metadata": {
            "tags": [],
            "needs_background": "light"
          }
        },
        {
          "output_type": "display_data",
          "data": {
            "image/png": "[encoded data removed]",
            "text/plain": [
              "<Figure size 432x288 with 1 Axes>"
            ]
          },
          "metadata": {
            "tags": [],
            "needs_background": "light"
          }
        }
      ]
    },
    {
      "cell_type": "markdown",
      "metadata": {
        "id": "5RZFrN8pU-Bu"
      },
      "source": [
        "**E.For each numeric column, Replace null values & zeros with mean value of the column.**\n"
      ]
    },
    {
      "cell_type": "markdown",
      "metadata": {
        "id": "eo7nQuobVThi"
      },
      "source": [
        "Handling zeroes in the dataset"
      ]
    },
    {
      "cell_type": "code",
      "metadata": {
        "colab": {
          "base_uri": "https://localhost:8080/",
          "height": 0
        },
        "id": "XKhWvKxgVJ1a",
        "outputId": "f432ef28-a95a-411f-d4d8-725628a59884"
      },
      "source": [
        "print((df==0).sum())"
      ],
      "execution_count": 40,
      "outputs": [
        {
          "output_type": "stream",
          "text": [
            "sepal.length    0\n",
            "sepal.width     0\n",
            "petal.length    0\n",
            "petal.width     0\n",
            "variety         0\n",
            "dtype: int64\n"
          ],
          "name": "stdout"
        }
      ]
    },
    {
      "cell_type": "code",
      "metadata": {
        "colab": {
          "base_uri": "https://localhost:8080/",
          "height": 0
        },
        "id": "95pvBxCeVOp-",
        "outputId": "0fefaded-1ac2-4cfa-f488-d92c5a92e46b"
      },
      "source": [
        "\n",
        "colName = 'sepal.length'\n",
        "print(\"*Original Count*\")\n",
        "print(\"Zero Values: \", (df[colName]==0).sum())\n",
        "df[colName] = np.where(df[colName]==0, df[colName].mean(), df[colName])\n",
        "print(\"*Cleaned Count*\")\n",
        "print(\"Zero Values: \", (df[colName]==0).sum())\n",
        "\n",
        "\n",
        "colName = 'sepal.width'\n",
        "print(\"*Original Count*\")\n",
        "print(\"Zero Values: \", (df[colName]==0).sum())\n",
        "df[colName] = np.where(df[colName]==0, df[colName].mean(), df[colName])\n",
        "print(\"*Cleaned Count*\")\n",
        "print(\"Zero Values: \", (df[colName]==0).sum())\n",
        "\n",
        "\n",
        "colName = 'petal.length'\n",
        "print(\"*Original Count*\")\n",
        "print(\"Zero Values: \", (df[colName]==0).sum())\n",
        "df[colName] = np.where(df[colName]==0, df[colName].mean(), df[colName])\n",
        "print(\"*Cleaned Count*\")\n",
        "print(\"Zero Values: \", (df[colName]==0).sum())\n",
        "\n",
        "\n",
        "colName = 'petal.width'\n",
        "print(\"*Original Count*\")\n",
        "print(\"Zero Values: \", (df[colName]==0).sum())\n",
        "df[colName] = np.where(df[colName]==0, df[colName].mean(), df[colName])\n",
        "print(\"*Cleaned Count*\")\n",
        "print(\"Zero Values: \", (df[colName]==0).sum())\n",
        "\n"
      ],
      "execution_count": 22,
      "outputs": [
        {
          "output_type": "stream",
          "text": [
            "*Original Count*\n",
            "Zero Values:  0\n",
            "*Cleaned Count*\n",
            "Zero Values:  0\n",
            "*Original Count*\n",
            "Zero Values:  0\n",
            "*Cleaned Count*\n",
            "Zero Values:  0\n",
            "*Original Count*\n",
            "Zero Values:  0\n",
            "*Cleaned Count*\n",
            "Zero Values:  0\n",
            "*Original Count*\n",
            "Zero Values:  0\n",
            "*Cleaned Count*\n",
            "Zero Values:  0\n"
          ],
          "name": "stdout"
        }
      ]
    },
    {
      "cell_type": "markdown",
      "metadata": {
        "id": "F_iCR5B-VxoZ"
      },
      "source": [
        "Handling null values"
      ]
    },
    {
      "cell_type": "code",
      "metadata": {
        "colab": {
          "base_uri": "https://localhost:8080/",
          "height": 0
        },
        "id": "He9kQ8AKV0c5",
        "outputId": "a2f41dc2-05d2-4591-c2ea-cacbdce2a82b"
      },
      "source": [
        "print(df.isnull().sum())"
      ],
      "execution_count": 23,
      "outputs": [
        {
          "output_type": "stream",
          "text": [
            "sepal.length    0\n",
            "sepal.width     0\n",
            "petal.length    0\n",
            "petal.width     0\n",
            "variety         0\n",
            "dtype: int64\n"
          ],
          "name": "stdout"
        }
      ]
    },
    {
      "cell_type": "code",
      "metadata": {
        "colab": {
          "base_uri": "https://localhost:8080/",
          "height": 0
        },
        "id": "sBnfuR6lV6F7",
        "outputId": "a9ae975a-d096-4d8b-9f19-321f7708bf50"
      },
      "source": [
        "print(\"\\n*** Carat ***\")\n",
        "colName = 'sepal.length'\n",
        "print(\"*Original Count*\")\n",
        "print(\"Null Values: \", df[colName].isnull().sum())\n",
        "print(\"Zero Values: \", (df[colName]==0).sum())\n",
        "# handle nulls\n",
        "print(\"Basic Stats\")\n",
        "print(\"Mean:   \",df[colName].mean())\n",
        "df[colName] = df[colName].fillna(df[colName].mean())\n",
        "print(\"*Cleaned Count*\")\n",
        "print(\"Null Values: \", df[colName].isnull().sum())\n",
        "print(\"Zero Values: \", (df[colName]==0).sum())\n",
        "\n",
        "\n",
        "colName = 'sepal.width'\n",
        "print(\"*Original Count*\")\n",
        "print(\"Null Values: \", df[colName].isnull().sum())\n",
        "print(\"Zero Values: \", (df[colName]==0).sum())\n",
        "# handle nulls\n",
        "print(\"Mean:   \",df[colName].mean())\n",
        "df[colName] = df[colName].fillna(df[colName].mean())\n",
        "print(\"*Cleaned Count*\")\n",
        "print(\"Null Values: \", df[colName].isnull().sum())\n",
        "print(\"Zero Values: \", (df[colName]==0).sum())\n",
        "\n",
        "colName = 'petal.length'\n",
        "print(\"*Original Count*\")\n",
        "print(\"Null Values: \", df[colName].isnull().sum())\n",
        "print(\"Zero Values: \", (df[colName]==0).sum())\n",
        "# handle nulls\n",
        "print(\"Mean:   \",df[colName].mean())\n",
        "df[colName] = df[colName].fillna(df[colName].mean())\n",
        "print(\"*Cleaned Count*\")\n",
        "print(\"Null Values: \", df[colName].isnull().sum())\n",
        "print(\"Zero Values: \", (df[colName]==0).sum())\n",
        "\n",
        "colName = 'petal.width'\n",
        "print(\"*Original Count*\")\n",
        "print(\"Null Values: \", df[colName].isnull().sum())\n",
        "print(\"Zero Values: \", (df[colName]==0).sum())\n",
        "# handle nulls\n",
        "print(\"Mean:   \",df[colName].mean())\n",
        "df[colName] = df[colName].fillna(df[colName].mean())\n",
        "print(\"*Cleaned Count*\")\n",
        "print(\"Null Values: \", df[colName].isnull().sum())\n",
        "print(\"Zero Values: \", (df[colName]==0).sum())"
      ],
      "execution_count": 26,
      "outputs": [
        {
          "output_type": "stream",
          "text": [
            "\n",
            "*** Carat ***\n",
            "*Original Count*\n",
            "Null Values:  0\n",
            "Zero Values:  0\n",
            "Basic Stats\n",
            "Mean:    5.843333333333335\n",
            "*Cleaned Count*\n",
            "Null Values:  0\n",
            "Zero Values:  0\n",
            "*Original Count*\n",
            "Null Values:  0\n",
            "Zero Values:  0\n",
            "Mean:    3.057333333333334\n",
            "*Cleaned Count*\n",
            "Null Values:  0\n",
            "Zero Values:  0\n",
            "*Original Count*\n",
            "Null Values:  0\n",
            "Zero Values:  0\n",
            "Mean:    3.7580000000000027\n",
            "*Cleaned Count*\n",
            "Null Values:  0\n",
            "Zero Values:  0\n",
            "*Original Count*\n",
            "Null Values:  0\n",
            "Zero Values:  0\n",
            "Mean:    1.199333333333334\n",
            "*Cleaned Count*\n",
            "Null Values:  0\n",
            "Zero Values:  0\n"
          ],
          "name": "stdout"
        }
      ]
    },
    {
      "cell_type": "markdown",
      "metadata": {
        "id": "0pPPolbsWoZl"
      },
      "source": [
        "**F.For each significant column, Provide the quartile summary along with the count, mean & sum**"
      ]
    },
    {
      "cell_type": "code",
      "metadata": {
        "colab": {
          "base_uri": "https://localhost:8080/",
          "height": 0
        },
        "id": "QzZHQjOzWxhZ",
        "outputId": "9a0359f2-9f9a-4b4e-9c39-1e15edd28931"
      },
      "source": [
        "print(df.describe())"
      ],
      "execution_count": 27,
      "outputs": [
        {
          "output_type": "stream",
          "text": [
            "       sepal.length  sepal.width  petal.length  petal.width\n",
            "count        150.00       150.00        150.00       150.00\n",
            "mean           5.84         3.06          3.76         1.20\n",
            "std            0.83         0.44          1.77         0.76\n",
            "min            4.30         2.00          1.00         0.10\n",
            "25%            5.10         2.80          1.60         0.30\n",
            "50%            5.80         3.00          4.35         1.30\n",
            "75%            6.40         3.30          5.10         1.80\n",
            "max            7.90         4.40          6.90         2.50\n"
          ],
          "name": "stdout"
        }
      ]
    },
    {
      "cell_type": "markdown",
      "metadata": {
        "id": "xESCIuOmXJrs"
      },
      "source": [
        ""
      ]
    },
    {
      "cell_type": "code",
      "metadata": {
        "colab": {
          "base_uri": "https://localhost:8080/",
          "height": 0
        },
        "id": "XOrPS3vNXIlD",
        "outputId": "b22dbe7f-1268-4b40-f2f8-7c83d8a580e1"
      },
      "source": [
        "df['sepal.length'].sum()"
      ],
      "execution_count": 32,
      "outputs": [
        {
          "output_type": "execute_result",
          "data": {
            "text/plain": [
              "876.5"
            ]
          },
          "metadata": {
            "tags": []
          },
          "execution_count": 32
        }
      ]
    },
    {
      "cell_type": "code",
      "metadata": {
        "colab": {
          "base_uri": "https://localhost:8080/",
          "height": 0
        },
        "id": "5LjEKvsuX7JK",
        "outputId": "64f61303-ce75-4671-ee07-2aaedaade59f"
      },
      "source": [
        "df['sepal.width'].sum()"
      ],
      "execution_count": 34,
      "outputs": [
        {
          "output_type": "execute_result",
          "data": {
            "text/plain": [
              "458.6"
            ]
          },
          "metadata": {
            "tags": []
          },
          "execution_count": 34
        }
      ]
    },
    {
      "cell_type": "code",
      "metadata": {
        "colab": {
          "base_uri": "https://localhost:8080/",
          "height": 0
        },
        "id": "YRg31ei_X7qx",
        "outputId": "5b016349-03f5-450c-d41f-54fc4c1962dc"
      },
      "source": [
        "df['petal.length'].sum()"
      ],
      "execution_count": 35,
      "outputs": [
        {
          "output_type": "execute_result",
          "data": {
            "text/plain": [
              "563.7"
            ]
          },
          "metadata": {
            "tags": []
          },
          "execution_count": 35
        }
      ]
    },
    {
      "cell_type": "code",
      "metadata": {
        "colab": {
          "base_uri": "https://localhost:8080/",
          "height": 0
        },
        "id": "Z0fvJUwCX8EM",
        "outputId": "d14d4a6a-0b70-4425-a175-453ac1137166"
      },
      "source": [
        "df['petal.width'].sum()"
      ],
      "execution_count": 36,
      "outputs": [
        {
          "output_type": "execute_result",
          "data": {
            "text/plain": [
              "179.90000000000003"
            ]
          },
          "metadata": {
            "tags": []
          },
          "execution_count": 36
        }
      ]
    }
  ]
}