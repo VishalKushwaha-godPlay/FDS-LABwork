{
  "nbformat": 4,
  "nbformat_minor": 0,
  "metadata": {
    "kernelspec": {
      "display_name": "Python 2",
      "language": "python",
      "name": "python2"
    },
    "language_info": {
      "codemirror_mode": {
        "name": "ipython",
        "version": 2
      },
      "file_extension": ".py",
      "mimetype": "text/x-python",
      "name": "python",
      "nbconvert_exporter": "python",
      "pygments_lexer": "ipython2",
      "version": "2.7.11"
    },
    "colab": {
      "name": "sem2Project.ipynb",
      "provenance": [],
      "collapsed_sections": [
        "jldMXuyAcEHz"
      ],
      "include_colab_link": true
    }
  },
  "cells": [
    {
      "cell_type": "markdown",
      "metadata": {
        "id": "view-in-github",
        "colab_type": "text"
      },
      "source": [
        "<a href=\"https://colab.research.google.com/github/VishalKushwaha-godPlay/FDS-LABwork/blob/main/DiabetesPrediction.ipynb\" target=\"_parent\"><img src=\"https://colab.research.google.com/assets/colab-badge.svg\" alt=\"Open In Colab\"/></a>"
      ]
    },
    {
      "cell_type": "markdown",
      "metadata": {
        "id": "XqIA3p0icEHk"
      },
      "source": [
        "# Indian Diabetes Prediction"
      ]
    },
    {
      "cell_type": "code",
      "metadata": {
        "collapsed": true,
        "id": "gnl7i-tMcEHp"
      },
      "source": [
        "#Importing librabries\n",
        "import numpy as np\n",
        "import pandas as pd\n",
        "import seaborn as sns\n",
        "import matplotlib.pyplot as plt\n",
        "sns.set(color_codes=True)\n",
        "%matplotlib inline "
      ],
      "execution_count": null,
      "outputs": []
    },
    {
      "cell_type": "markdown",
      "metadata": {
        "id": "j7eO_QQ3cEHq"
      },
      "source": [
        "## Loading and Reviewing the Data"
      ]
    },
    {
      "cell_type": "code",
      "metadata": {
        "id": "1pbVXfTOcEHr"
      },
      "source": [
        "data_frame = pd.read_csv(\"/content/drive/MyDrive/Mini project/pimadataorig.csv\")"
      ],
      "execution_count": null,
      "outputs": []
    },
    {
      "cell_type": "code",
      "metadata": {
        "id": "m0p3kBJlcEHr",
        "colab": {
          "base_uri": "https://localhost:8080/"
        },
        "outputId": "f1572025-83b2-4728-8012-73390cfbb5a0"
      },
      "source": [
        "data_frame.shape"
      ],
      "execution_count": null,
      "outputs": [
        {
          "output_type": "execute_result",
          "data": {
            "text/plain": [
              "(768, 9)"
            ]
          },
          "metadata": {
            "tags": []
          },
          "execution_count": 6
        }
      ]
    },
    {
      "cell_type": "code",
      "metadata": {
        "colab": {
          "base_uri": "https://localhost:8080/",
          "height": 204
        },
        "id": "FA-zTGwNcEHs",
        "outputId": "6071e2d6-328b-4628-f7da-d09b54bc7627"
      },
      "source": [
        "data_frame.head(5)"
      ],
      "execution_count": null,
      "outputs": [
        {
          "output_type": "execute_result",
          "data": {
            "text/plain": [
              "   num_preg  glucose_conc  diastolic_bp  skin_thickness  insulin   bmi  \\\n",
              "0         6           148            72              35        0  33.6   \n",
              "1         1            85            66              29        0  26.6   \n",
              "2         8           183            64               0        0  23.3   \n",
              "3         1            89            66              23       94  28.1   \n",
              "4         0           137            40              35      168  43.1   \n",
              "\n",
              "   diab_pred  age  diabetes  \n",
              "0      0.627   50         1  \n",
              "1      0.351   31         0  \n",
              "2      0.672   32         1  \n",
              "3      0.167   21         0  \n",
              "4      2.288   33         1  "
            ],
            "text/html": [
              "<div>\n",
              "<style scoped>\n",
              "    .dataframe tbody tr th:only-of-type {\n",
              "        vertical-align: middle;\n",
              "    }\n",
              "\n",
              "    .dataframe tbody tr th {\n",
              "        vertical-align: top;\n",
              "    }\n",
              "\n",
              "    .dataframe thead th {\n",
              "        text-align: right;\n",
              "    }\n",
              "</style>\n",
              "<table border=\"1\" class=\"dataframe\">\n",
              "  <thead>\n",
              "    <tr style=\"text-align: right;\">\n",
              "      <th></th>\n",
              "      <th>num_preg</th>\n",
              "      <th>glucose_conc</th>\n",
              "      <th>diastolic_bp</th>\n",
              "      <th>skin_thickness</th>\n",
              "      <th>insulin</th>\n",
              "      <th>bmi</th>\n",
              "      <th>diab_pred</th>\n",
              "      <th>age</th>\n",
              "      <th>diabetes</th>\n",
              "    </tr>\n",
              "  </thead>\n",
              "  <tbody>\n",
              "    <tr>\n",
              "      <th>0</th>\n",
              "      <td>6</td>\n",
              "      <td>148</td>\n",
              "      <td>72</td>\n",
              "      <td>35</td>\n",
              "      <td>0</td>\n",
              "      <td>33.6</td>\n",
              "      <td>0.627</td>\n",
              "      <td>50</td>\n",
              "      <td>1</td>\n",
              "    </tr>\n",
              "    <tr>\n",
              "      <th>1</th>\n",
              "      <td>1</td>\n",
              "      <td>85</td>\n",
              "      <td>66</td>\n",
              "      <td>29</td>\n",
              "      <td>0</td>\n",
              "      <td>26.6</td>\n",
              "      <td>0.351</td>\n",
              "      <td>31</td>\n",
              "      <td>0</td>\n",
              "    </tr>\n",
              "    <tr>\n",
              "      <th>2</th>\n",
              "      <td>8</td>\n",
              "      <td>183</td>\n",
              "      <td>64</td>\n",
              "      <td>0</td>\n",
              "      <td>0</td>\n",
              "      <td>23.3</td>\n",
              "      <td>0.672</td>\n",
              "      <td>32</td>\n",
              "      <td>1</td>\n",
              "    </tr>\n",
              "    <tr>\n",
              "      <th>3</th>\n",
              "      <td>1</td>\n",
              "      <td>89</td>\n",
              "      <td>66</td>\n",
              "      <td>23</td>\n",
              "      <td>94</td>\n",
              "      <td>28.1</td>\n",
              "      <td>0.167</td>\n",
              "      <td>21</td>\n",
              "      <td>0</td>\n",
              "    </tr>\n",
              "    <tr>\n",
              "      <th>4</th>\n",
              "      <td>0</td>\n",
              "      <td>137</td>\n",
              "      <td>40</td>\n",
              "      <td>35</td>\n",
              "      <td>168</td>\n",
              "      <td>43.1</td>\n",
              "      <td>2.288</td>\n",
              "      <td>33</td>\n",
              "      <td>1</td>\n",
              "    </tr>\n",
              "  </tbody>\n",
              "</table>\n",
              "</div>"
            ]
          },
          "metadata": {
            "tags": []
          },
          "execution_count": 7
        }
      ]
    },
    {
      "cell_type": "code",
      "metadata": {
        "colab": {
          "base_uri": "https://localhost:8080/",
          "height": 204
        },
        "id": "GqfIYgd3cEHs",
        "outputId": "6e5a9a04-c2e7-4b4c-8972-c8ba91d8f797"
      },
      "source": [
        "data_frame.tail(5)"
      ],
      "execution_count": null,
      "outputs": [
        {
          "output_type": "execute_result",
          "data": {
            "text/plain": [
              "     num_preg  glucose_conc  diastolic_bp  skin_thickness  insulin   bmi  \\\n",
              "763        10           101            76              48      180  32.9   \n",
              "764         2           122            70              27        0  36.8   \n",
              "765         5           121            72              23      112  26.2   \n",
              "766         1           126            60               0        0  30.1   \n",
              "767         1            93            70              31        0  30.4   \n",
              "\n",
              "     diab_pred  age  diabetes  \n",
              "763      0.171   63         0  \n",
              "764      0.340   27         0  \n",
              "765      0.245   30         0  \n",
              "766      0.349   47         1  \n",
              "767      0.315   23         0  "
            ],
            "text/html": [
              "<div>\n",
              "<style scoped>\n",
              "    .dataframe tbody tr th:only-of-type {\n",
              "        vertical-align: middle;\n",
              "    }\n",
              "\n",
              "    .dataframe tbody tr th {\n",
              "        vertical-align: top;\n",
              "    }\n",
              "\n",
              "    .dataframe thead th {\n",
              "        text-align: right;\n",
              "    }\n",
              "</style>\n",
              "<table border=\"1\" class=\"dataframe\">\n",
              "  <thead>\n",
              "    <tr style=\"text-align: right;\">\n",
              "      <th></th>\n",
              "      <th>num_preg</th>\n",
              "      <th>glucose_conc</th>\n",
              "      <th>diastolic_bp</th>\n",
              "      <th>skin_thickness</th>\n",
              "      <th>insulin</th>\n",
              "      <th>bmi</th>\n",
              "      <th>diab_pred</th>\n",
              "      <th>age</th>\n",
              "      <th>diabetes</th>\n",
              "    </tr>\n",
              "  </thead>\n",
              "  <tbody>\n",
              "    <tr>\n",
              "      <th>763</th>\n",
              "      <td>10</td>\n",
              "      <td>101</td>\n",
              "      <td>76</td>\n",
              "      <td>48</td>\n",
              "      <td>180</td>\n",
              "      <td>32.9</td>\n",
              "      <td>0.171</td>\n",
              "      <td>63</td>\n",
              "      <td>0</td>\n",
              "    </tr>\n",
              "    <tr>\n",
              "      <th>764</th>\n",
              "      <td>2</td>\n",
              "      <td>122</td>\n",
              "      <td>70</td>\n",
              "      <td>27</td>\n",
              "      <td>0</td>\n",
              "      <td>36.8</td>\n",
              "      <td>0.340</td>\n",
              "      <td>27</td>\n",
              "      <td>0</td>\n",
              "    </tr>\n",
              "    <tr>\n",
              "      <th>765</th>\n",
              "      <td>5</td>\n",
              "      <td>121</td>\n",
              "      <td>72</td>\n",
              "      <td>23</td>\n",
              "      <td>112</td>\n",
              "      <td>26.2</td>\n",
              "      <td>0.245</td>\n",
              "      <td>30</td>\n",
              "      <td>0</td>\n",
              "    </tr>\n",
              "    <tr>\n",
              "      <th>766</th>\n",
              "      <td>1</td>\n",
              "      <td>126</td>\n",
              "      <td>60</td>\n",
              "      <td>0</td>\n",
              "      <td>0</td>\n",
              "      <td>30.1</td>\n",
              "      <td>0.349</td>\n",
              "      <td>47</td>\n",
              "      <td>1</td>\n",
              "    </tr>\n",
              "    <tr>\n",
              "      <th>767</th>\n",
              "      <td>1</td>\n",
              "      <td>93</td>\n",
              "      <td>70</td>\n",
              "      <td>31</td>\n",
              "      <td>0</td>\n",
              "      <td>30.4</td>\n",
              "      <td>0.315</td>\n",
              "      <td>23</td>\n",
              "      <td>0</td>\n",
              "    </tr>\n",
              "  </tbody>\n",
              "</table>\n",
              "</div>"
            ]
          },
          "metadata": {
            "tags": []
          },
          "execution_count": 8
        }
      ]
    },
    {
      "cell_type": "markdown",
      "metadata": {
        "id": "2zs1VX1rcEHt"
      },
      "source": [
        "### Definition of features\n",
        "From the metadata on the data source we have the following definition of the features.\n",
        "\n",
        "| Feature  | Description | Comments |\n",
        "|--------------|-------------|--------|\n",
        "| num_preg     | number of pregnancies         |\n",
        "| glucose_conc | Plasma glucose concentration a 2 hours in an oral glucose tolerance test         |\n",
        "| diastolic_bp | Diastolic blood pressure (mm Hg) |\n",
        "| thickness | Triceps skin fold thickness (mm) |\n",
        "|insulin | 2-Hour serum insulin (mu U/ml) |\n",
        "| bmi |  Body mass index (weight in kg/(height in m)^2) |\n",
        "| diab_pred |  Diabetes pedigree function |\n",
        "| Age (years) | Age (years)|\n",
        "| skin | ???? | What is this? |\n",
        "| diabetes | Class variable (1=True, 0=False) |  Why is our data boolean (True/False)? |\n"
      ]
    },
    {
      "cell_type": "markdown",
      "metadata": {
        "id": "4ESJSHG8cEHt"
      },
      "source": [
        "## Check for null values"
      ]
    },
    {
      "cell_type": "code",
      "metadata": {
        "colab": {
          "base_uri": "https://localhost:8080/"
        },
        "id": "bjiP8H6ccEHu",
        "outputId": "bdd7562c-64b8-415d-8e01-c4f8f87e2504"
      },
      "source": [
        "print (data_frame.isnull().values.any())"
      ],
      "execution_count": null,
      "outputs": [
        {
          "output_type": "stream",
          "text": [
            "False\n"
          ],
          "name": "stdout"
        }
      ]
    },
    {
      "cell_type": "markdown",
      "metadata": {
        "id": "solaD1cmcEHu"
      },
      "source": [
        "### Correlated Feature Check"
      ]
    },
    {
      "cell_type": "markdown",
      "metadata": {
        "id": "hld1z64ecEHu"
      },
      "source": [
        "Helper function that displays correlation by color.  Red is most correlated, Blue least."
      ]
    },
    {
      "cell_type": "code",
      "metadata": {
        "collapsed": true,
        "id": "T42q43VHcEHv"
      },
      "source": [
        "def plot_corr(data_frame, size=11):\n",
        "    \"\"\"\n",
        "    Function plots a graphical correlation matrix for each pair of columns in the dataframe.\n",
        "\n",
        "    Input:\n",
        "        data_frame: pandas DataFrame\n",
        "        size: vertical and horizontal size of the plot\n",
        "\n",
        "    Displays:\n",
        "        matrix of correlation between columns.  Blue-cyan-yellow-red-darkred => less to more correlated\n",
        "                                                0 ------------------>  1\n",
        "                                                Expect a darkred line running from top left to bottom right\n",
        "    \"\"\"\n",
        "\n",
        "    corr = data_frame.corr()    # data frame correlation function\n",
        "    fig, ax = plt.subplots(figsize=(size, size))\n",
        "    ax.matshow(corr)   # color code the rectangles by correlation value\n",
        "    plt.xticks(range(len(corr.columns)), corr.columns)  # draw x tick marks\n",
        "    plt.yticks(range(len(corr.columns)), corr.columns)  # draw y tick marks\n"
      ],
      "execution_count": null,
      "outputs": []
    },
    {
      "cell_type": "code",
      "metadata": {
        "colab": {
          "base_uri": "https://localhost:8080/",
          "height": 655
        },
        "id": "mYh_eWdqcEHv",
        "outputId": "3560dfa8-b459-4368-82ad-a6371b28dd93"
      },
      "source": [
        "plot_corr(data_frame)"
      ],
      "execution_count": null,
      "outputs": [
        {
          "output_type": "display_data",
          "data": {
            "image/png": "[encoded data removed]",
            "text/plain": [
              "<Figure size 792x792 with 1 Axes>"
            ]
          },
          "metadata": {
            "tags": [],
            "needs_background": "light"
          }
        }
      ]
    },
    {
      "cell_type": "code",
      "metadata": {
        "colab": {
          "base_uri": "https://localhost:8080/",
          "height": 328
        },
        "id": "M5o6cNI_cEHv",
        "outputId": "600c92c1-0e48-479d-8e4f-1dceddb12f2e"
      },
      "source": [
        "data_frame.corr()"
      ],
      "execution_count": null,
      "outputs": [
        {
          "output_type": "execute_result",
          "data": {
            "text/plain": [
              "                num_preg  glucose_conc  diastolic_bp  skin_thickness  \\\n",
              "num_preg        1.000000      0.129459      0.141282       -0.081672   \n",
              "glucose_conc    0.129459      1.000000      0.152590        0.057328   \n",
              "diastolic_bp    0.141282      0.152590      1.000000        0.207371   \n",
              "skin_thickness -0.081672      0.057328      0.207371        1.000000   \n",
              "insulin        -0.073535      0.331357      0.088933        0.436783   \n",
              "bmi             0.017683      0.221071      0.281805        0.392573   \n",
              "diab_pred      -0.033523      0.137337      0.041265        0.183928   \n",
              "age             0.544341      0.263514      0.239528       -0.113970   \n",
              "diabetes        0.221898      0.466581      0.065068        0.074752   \n",
              "\n",
              "                 insulin       bmi  diab_pred       age  diabetes  \n",
              "num_preg       -0.073535  0.017683  -0.033523  0.544341  0.221898  \n",
              "glucose_conc    0.331357  0.221071   0.137337  0.263514  0.466581  \n",
              "diastolic_bp    0.088933  0.281805   0.041265  0.239528  0.065068  \n",
              "skin_thickness  0.436783  0.392573   0.183928 -0.113970  0.074752  \n",
              "insulin         1.000000  0.197859   0.185071 -0.042163  0.130548  \n",
              "bmi             0.197859  1.000000   0.140647  0.036242  0.292695  \n",
              "diab_pred       0.185071  0.140647   1.000000  0.033561  0.173844  \n",
              "age            -0.042163  0.036242   0.033561  1.000000  0.238356  \n",
              "diabetes        0.130548  0.292695   0.173844  0.238356  1.000000  "
            ],
            "text/html": [
              "<div>\n",
              "<style scoped>\n",
              "    .dataframe tbody tr th:only-of-type {\n",
              "        vertical-align: middle;\n",
              "    }\n",
              "\n",
              "    .dataframe tbody tr th {\n",
              "        vertical-align: top;\n",
              "    }\n",
              "\n",
              "    .dataframe thead th {\n",
              "        text-align: right;\n",
              "    }\n",
              "</style>\n",
              "<table border=\"1\" class=\"dataframe\">\n",
              "  <thead>\n",
              "    <tr style=\"text-align: right;\">\n",
              "      <th></th>\n",
              "      <th>num_preg</th>\n",
              "      <th>glucose_conc</th>\n",
              "      <th>diastolic_bp</th>\n",
              "      <th>skin_thickness</th>\n",
              "      <th>insulin</th>\n",
              "      <th>bmi</th>\n",
              "      <th>diab_pred</th>\n",
              "      <th>age</th>\n",
              "      <th>diabetes</th>\n",
              "    </tr>\n",
              "  </thead>\n",
              "  <tbody>\n",
              "    <tr>\n",
              "      <th>num_preg</th>\n",
              "      <td>1.000000</td>\n",
              "      <td>0.129459</td>\n",
              "      <td>0.141282</td>\n",
              "      <td>-0.081672</td>\n",
              "      <td>-0.073535</td>\n",
              "      <td>0.017683</td>\n",
              "      <td>-0.033523</td>\n",
              "      <td>0.544341</td>\n",
              "      <td>0.221898</td>\n",
              "    </tr>\n",
              "    <tr>\n",
              "      <th>glucose_conc</th>\n",
              "      <td>0.129459</td>\n",
              "      <td>1.000000</td>\n",
              "      <td>0.152590</td>\n",
              "      <td>0.057328</td>\n",
              "      <td>0.331357</td>\n",
              "      <td>0.221071</td>\n",
              "      <td>0.137337</td>\n",
              "      <td>0.263514</td>\n",
              "      <td>0.466581</td>\n",
              "    </tr>\n",
              "    <tr>\n",
              "      <th>diastolic_bp</th>\n",
              "      <td>0.141282</td>\n",
              "      <td>0.152590</td>\n",
              "      <td>1.000000</td>\n",
              "      <td>0.207371</td>\n",
              "      <td>0.088933</td>\n",
              "      <td>0.281805</td>\n",
              "      <td>0.041265</td>\n",
              "      <td>0.239528</td>\n",
              "      <td>0.065068</td>\n",
              "    </tr>\n",
              "    <tr>\n",
              "      <th>skin_thickness</th>\n",
              "      <td>-0.081672</td>\n",
              "      <td>0.057328</td>\n",
              "      <td>0.207371</td>\n",
              "      <td>1.000000</td>\n",
              "      <td>0.436783</td>\n",
              "      <td>0.392573</td>\n",
              "      <td>0.183928</td>\n",
              "      <td>-0.113970</td>\n",
              "      <td>0.074752</td>\n",
              "    </tr>\n",
              "    <tr>\n",
              "      <th>insulin</th>\n",
              "      <td>-0.073535</td>\n",
              "      <td>0.331357</td>\n",
              "      <td>0.088933</td>\n",
              "      <td>0.436783</td>\n",
              "      <td>1.000000</td>\n",
              "      <td>0.197859</td>\n",
              "      <td>0.185071</td>\n",
              "      <td>-0.042163</td>\n",
              "      <td>0.130548</td>\n",
              "    </tr>\n",
              "    <tr>\n",
              "      <th>bmi</th>\n",
              "      <td>0.017683</td>\n",
              "      <td>0.221071</td>\n",
              "      <td>0.281805</td>\n",
              "      <td>0.392573</td>\n",
              "      <td>0.197859</td>\n",
              "      <td>1.000000</td>\n",
              "      <td>0.140647</td>\n",
              "      <td>0.036242</td>\n",
              "      <td>0.292695</td>\n",
              "    </tr>\n",
              "    <tr>\n",
              "      <th>diab_pred</th>\n",
              "      <td>-0.033523</td>\n",
              "      <td>0.137337</td>\n",
              "      <td>0.041265</td>\n",
              "      <td>0.183928</td>\n",
              "      <td>0.185071</td>\n",
              "      <td>0.140647</td>\n",
              "      <td>1.000000</td>\n",
              "      <td>0.033561</td>\n",
              "      <td>0.173844</td>\n",
              "    </tr>\n",
              "    <tr>\n",
              "      <th>age</th>\n",
              "      <td>0.544341</td>\n",
              "      <td>0.263514</td>\n",
              "      <td>0.239528</td>\n",
              "      <td>-0.113970</td>\n",
              "      <td>-0.042163</td>\n",
              "      <td>0.036242</td>\n",
              "      <td>0.033561</td>\n",
              "      <td>1.000000</td>\n",
              "      <td>0.238356</td>\n",
              "    </tr>\n",
              "    <tr>\n",
              "      <th>diabetes</th>\n",
              "      <td>0.221898</td>\n",
              "      <td>0.466581</td>\n",
              "      <td>0.065068</td>\n",
              "      <td>0.074752</td>\n",
              "      <td>0.130548</td>\n",
              "      <td>0.292695</td>\n",
              "      <td>0.173844</td>\n",
              "      <td>0.238356</td>\n",
              "      <td>1.000000</td>\n",
              "    </tr>\n",
              "  </tbody>\n",
              "</table>\n",
              "</div>"
            ]
          },
          "metadata": {
            "tags": []
          },
          "execution_count": 12
        }
      ]
    },
    {
      "cell_type": "code",
      "metadata": {
        "colab": {
          "base_uri": "https://localhost:8080/",
          "height": 204
        },
        "id": "eemCUNzHcEHv",
        "outputId": "f2251947-5dde-4b01-c4a8-3a9d8f5de443"
      },
      "source": [
        "data_frame.head(5)"
      ],
      "execution_count": null,
      "outputs": [
        {
          "output_type": "execute_result",
          "data": {
            "text/plain": [
              "   num_preg  glucose_conc  diastolic_bp  skin_thickness  insulin   bmi  \\\n",
              "0         6           148            72              35        0  33.6   \n",
              "1         1            85            66              29        0  26.6   \n",
              "2         8           183            64               0        0  23.3   \n",
              "3         1            89            66              23       94  28.1   \n",
              "4         0           137            40              35      168  43.1   \n",
              "\n",
              "   diab_pred  age  diabetes  \n",
              "0      0.627   50         1  \n",
              "1      0.351   31         0  \n",
              "2      0.672   32         1  \n",
              "3      0.167   21         0  \n",
              "4      2.288   33         1  "
            ],
            "text/html": [
              "<div>\n",
              "<style scoped>\n",
              "    .dataframe tbody tr th:only-of-type {\n",
              "        vertical-align: middle;\n",
              "    }\n",
              "\n",
              "    .dataframe tbody tr th {\n",
              "        vertical-align: top;\n",
              "    }\n",
              "\n",
              "    .dataframe thead th {\n",
              "        text-align: right;\n",
              "    }\n",
              "</style>\n",
              "<table border=\"1\" class=\"dataframe\">\n",
              "  <thead>\n",
              "    <tr style=\"text-align: right;\">\n",
              "      <th></th>\n",
              "      <th>num_preg</th>\n",
              "      <th>glucose_conc</th>\n",
              "      <th>diastolic_bp</th>\n",
              "      <th>skin_thickness</th>\n",
              "      <th>insulin</th>\n",
              "      <th>bmi</th>\n",
              "      <th>diab_pred</th>\n",
              "      <th>age</th>\n",
              "      <th>diabetes</th>\n",
              "    </tr>\n",
              "  </thead>\n",
              "  <tbody>\n",
              "    <tr>\n",
              "      <th>0</th>\n",
              "      <td>6</td>\n",
              "      <td>148</td>\n",
              "      <td>72</td>\n",
              "      <td>35</td>\n",
              "      <td>0</td>\n",
              "      <td>33.6</td>\n",
              "      <td>0.627</td>\n",
              "      <td>50</td>\n",
              "      <td>1</td>\n",
              "    </tr>\n",
              "    <tr>\n",
              "      <th>1</th>\n",
              "      <td>1</td>\n",
              "      <td>85</td>\n",
              "      <td>66</td>\n",
              "      <td>29</td>\n",
              "      <td>0</td>\n",
              "      <td>26.6</td>\n",
              "      <td>0.351</td>\n",
              "      <td>31</td>\n",
              "      <td>0</td>\n",
              "    </tr>\n",
              "    <tr>\n",
              "      <th>2</th>\n",
              "      <td>8</td>\n",
              "      <td>183</td>\n",
              "      <td>64</td>\n",
              "      <td>0</td>\n",
              "      <td>0</td>\n",
              "      <td>23.3</td>\n",
              "      <td>0.672</td>\n",
              "      <td>32</td>\n",
              "      <td>1</td>\n",
              "    </tr>\n",
              "    <tr>\n",
              "      <th>3</th>\n",
              "      <td>1</td>\n",
              "      <td>89</td>\n",
              "      <td>66</td>\n",
              "      <td>23</td>\n",
              "      <td>94</td>\n",
              "      <td>28.1</td>\n",
              "      <td>0.167</td>\n",
              "      <td>21</td>\n",
              "      <td>0</td>\n",
              "    </tr>\n",
              "    <tr>\n",
              "      <th>4</th>\n",
              "      <td>0</td>\n",
              "      <td>137</td>\n",
              "      <td>40</td>\n",
              "      <td>35</td>\n",
              "      <td>168</td>\n",
              "      <td>43.1</td>\n",
              "      <td>2.288</td>\n",
              "      <td>33</td>\n",
              "      <td>1</td>\n",
              "    </tr>\n",
              "  </tbody>\n",
              "</table>\n",
              "</div>"
            ]
          },
          "metadata": {
            "tags": []
          },
          "execution_count": 13
        }
      ]
    },
    {
      "cell_type": "markdown",
      "metadata": {
        "id": "LbDFEvPIcEHw"
      },
      "source": [
        "The skin and thickness columns are correlated 1 to 1.  Dropping the skin column"
      ]
    },
    {
      "cell_type": "code",
      "metadata": {
        "colab": {
          "base_uri": "https://localhost:8080/",
          "height": 204
        },
        "id": "vgYtZeGAcEHw",
        "outputId": "fd58afca-dedc-446b-89a2-daafcd7d2624"
      },
      "source": [
        "data_frame.head(5)"
      ],
      "execution_count": null,
      "outputs": [
        {
          "output_type": "execute_result",
          "data": {
            "text/plain": [
              "   num_preg  glucose_conc  diastolic_bp  skin_thickness  insulin   bmi  \\\n",
              "0         6           148            72              35        0  33.6   \n",
              "1         1            85            66              29        0  26.6   \n",
              "2         8           183            64               0        0  23.3   \n",
              "3         1            89            66              23       94  28.1   \n",
              "4         0           137            40              35      168  43.1   \n",
              "\n",
              "   diab_pred  age  diabetes  \n",
              "0      0.627   50         1  \n",
              "1      0.351   31         0  \n",
              "2      0.672   32         1  \n",
              "3      0.167   21         0  \n",
              "4      2.288   33         1  "
            ],
            "text/html": [
              "<div>\n",
              "<style scoped>\n",
              "    .dataframe tbody tr th:only-of-type {\n",
              "        vertical-align: middle;\n",
              "    }\n",
              "\n",
              "    .dataframe tbody tr th {\n",
              "        vertical-align: top;\n",
              "    }\n",
              "\n",
              "    .dataframe thead th {\n",
              "        text-align: right;\n",
              "    }\n",
              "</style>\n",
              "<table border=\"1\" class=\"dataframe\">\n",
              "  <thead>\n",
              "    <tr style=\"text-align: right;\">\n",
              "      <th></th>\n",
              "      <th>num_preg</th>\n",
              "      <th>glucose_conc</th>\n",
              "      <th>diastolic_bp</th>\n",
              "      <th>skin_thickness</th>\n",
              "      <th>insulin</th>\n",
              "      <th>bmi</th>\n",
              "      <th>diab_pred</th>\n",
              "      <th>age</th>\n",
              "      <th>diabetes</th>\n",
              "    </tr>\n",
              "  </thead>\n",
              "  <tbody>\n",
              "    <tr>\n",
              "      <th>0</th>\n",
              "      <td>6</td>\n",
              "      <td>148</td>\n",
              "      <td>72</td>\n",
              "      <td>35</td>\n",
              "      <td>0</td>\n",
              "      <td>33.6</td>\n",
              "      <td>0.627</td>\n",
              "      <td>50</td>\n",
              "      <td>1</td>\n",
              "    </tr>\n",
              "    <tr>\n",
              "      <th>1</th>\n",
              "      <td>1</td>\n",
              "      <td>85</td>\n",
              "      <td>66</td>\n",
              "      <td>29</td>\n",
              "      <td>0</td>\n",
              "      <td>26.6</td>\n",
              "      <td>0.351</td>\n",
              "      <td>31</td>\n",
              "      <td>0</td>\n",
              "    </tr>\n",
              "    <tr>\n",
              "      <th>2</th>\n",
              "      <td>8</td>\n",
              "      <td>183</td>\n",
              "      <td>64</td>\n",
              "      <td>0</td>\n",
              "      <td>0</td>\n",
              "      <td>23.3</td>\n",
              "      <td>0.672</td>\n",
              "      <td>32</td>\n",
              "      <td>1</td>\n",
              "    </tr>\n",
              "    <tr>\n",
              "      <th>3</th>\n",
              "      <td>1</td>\n",
              "      <td>89</td>\n",
              "      <td>66</td>\n",
              "      <td>23</td>\n",
              "      <td>94</td>\n",
              "      <td>28.1</td>\n",
              "      <td>0.167</td>\n",
              "      <td>21</td>\n",
              "      <td>0</td>\n",
              "    </tr>\n",
              "    <tr>\n",
              "      <th>4</th>\n",
              "      <td>0</td>\n",
              "      <td>137</td>\n",
              "      <td>40</td>\n",
              "      <td>35</td>\n",
              "      <td>168</td>\n",
              "      <td>43.1</td>\n",
              "      <td>2.288</td>\n",
              "      <td>33</td>\n",
              "      <td>1</td>\n",
              "    </tr>\n",
              "  </tbody>\n",
              "</table>\n",
              "</div>"
            ]
          },
          "metadata": {
            "tags": []
          },
          "execution_count": 14
        }
      ]
    },
    {
      "cell_type": "markdown",
      "metadata": {
        "id": "vtS6o2vTcEHw"
      },
      "source": [
        "Check for additional correlations"
      ]
    },
    {
      "cell_type": "code",
      "metadata": {
        "colab": {
          "base_uri": "https://localhost:8080/",
          "height": 655
        },
        "id": "2NDZbMdEcEHw",
        "outputId": "b4cb5fe2-7fe0-44f3-9dc5-f8631186be28"
      },
      "source": [
        "plot_corr(data_frame)"
      ],
      "execution_count": null,
      "outputs": [
        {
          "output_type": "display_data",
          "data": {
            "image/png": "[encoded data removed]",
            "text/plain": [
              "<Figure size 792x792 with 1 Axes>"
            ]
          },
          "metadata": {
            "tags": [],
            "needs_background": "light"
          }
        }
      ]
    },
    {
      "cell_type": "markdown",
      "metadata": {
        "id": "-Cji0-GbcEHx"
      },
      "source": [
        "The correlations look good.  There appear to be no coorelated columns."
      ]
    },
    {
      "cell_type": "markdown",
      "metadata": {
        "id": "vwEqZx91cEHx"
      },
      "source": [
        "## Mold Data"
      ]
    },
    {
      "cell_type": "markdown",
      "metadata": {
        "id": "eshS7r-WcEHx"
      },
      "source": [
        "### Data Types\n",
        "\n",
        "Inspect data types to see if there are any issues.  Data should be numeric."
      ]
    },
    {
      "cell_type": "code",
      "metadata": {
        "colab": {
          "base_uri": "https://localhost:8080/",
          "height": 204
        },
        "id": "tv-7kCLUcEHx",
        "outputId": "3dcb4fa7-ba63-4d5f-e070-7301bc352cb9"
      },
      "source": [
        "data_frame.head(5)"
      ],
      "execution_count": null,
      "outputs": [
        {
          "output_type": "execute_result",
          "data": {
            "text/plain": [
              "   num_preg  glucose_conc  diastolic_bp  skin_thickness  insulin   bmi  \\\n",
              "0         6           148            72              35        0  33.6   \n",
              "1         1            85            66              29        0  26.6   \n",
              "2         8           183            64               0        0  23.3   \n",
              "3         1            89            66              23       94  28.1   \n",
              "4         0           137            40              35      168  43.1   \n",
              "\n",
              "   diab_pred  age  diabetes  \n",
              "0      0.627   50         1  \n",
              "1      0.351   31         0  \n",
              "2      0.672   32         1  \n",
              "3      0.167   21         0  \n",
              "4      2.288   33         1  "
            ],
            "text/html": [
              "<div>\n",
              "<style scoped>\n",
              "    .dataframe tbody tr th:only-of-type {\n",
              "        vertical-align: middle;\n",
              "    }\n",
              "\n",
              "    .dataframe tbody tr th {\n",
              "        vertical-align: top;\n",
              "    }\n",
              "\n",
              "    .dataframe thead th {\n",
              "        text-align: right;\n",
              "    }\n",
              "</style>\n",
              "<table border=\"1\" class=\"dataframe\">\n",
              "  <thead>\n",
              "    <tr style=\"text-align: right;\">\n",
              "      <th></th>\n",
              "      <th>num_preg</th>\n",
              "      <th>glucose_conc</th>\n",
              "      <th>diastolic_bp</th>\n",
              "      <th>skin_thickness</th>\n",
              "      <th>insulin</th>\n",
              "      <th>bmi</th>\n",
              "      <th>diab_pred</th>\n",
              "      <th>age</th>\n",
              "      <th>diabetes</th>\n",
              "    </tr>\n",
              "  </thead>\n",
              "  <tbody>\n",
              "    <tr>\n",
              "      <th>0</th>\n",
              "      <td>6</td>\n",
              "      <td>148</td>\n",
              "      <td>72</td>\n",
              "      <td>35</td>\n",
              "      <td>0</td>\n",
              "      <td>33.6</td>\n",
              "      <td>0.627</td>\n",
              "      <td>50</td>\n",
              "      <td>1</td>\n",
              "    </tr>\n",
              "    <tr>\n",
              "      <th>1</th>\n",
              "      <td>1</td>\n",
              "      <td>85</td>\n",
              "      <td>66</td>\n",
              "      <td>29</td>\n",
              "      <td>0</td>\n",
              "      <td>26.6</td>\n",
              "      <td>0.351</td>\n",
              "      <td>31</td>\n",
              "      <td>0</td>\n",
              "    </tr>\n",
              "    <tr>\n",
              "      <th>2</th>\n",
              "      <td>8</td>\n",
              "      <td>183</td>\n",
              "      <td>64</td>\n",
              "      <td>0</td>\n",
              "      <td>0</td>\n",
              "      <td>23.3</td>\n",
              "      <td>0.672</td>\n",
              "      <td>32</td>\n",
              "      <td>1</td>\n",
              "    </tr>\n",
              "    <tr>\n",
              "      <th>3</th>\n",
              "      <td>1</td>\n",
              "      <td>89</td>\n",
              "      <td>66</td>\n",
              "      <td>23</td>\n",
              "      <td>94</td>\n",
              "      <td>28.1</td>\n",
              "      <td>0.167</td>\n",
              "      <td>21</td>\n",
              "      <td>0</td>\n",
              "    </tr>\n",
              "    <tr>\n",
              "      <th>4</th>\n",
              "      <td>0</td>\n",
              "      <td>137</td>\n",
              "      <td>40</td>\n",
              "      <td>35</td>\n",
              "      <td>168</td>\n",
              "      <td>43.1</td>\n",
              "      <td>2.288</td>\n",
              "      <td>33</td>\n",
              "      <td>1</td>\n",
              "    </tr>\n",
              "  </tbody>\n",
              "</table>\n",
              "</div>"
            ]
          },
          "metadata": {
            "tags": []
          },
          "execution_count": 16
        }
      ]
    },
    {
      "cell_type": "markdown",
      "metadata": {
        "id": "P3jLhb9ncEHx"
      },
      "source": [
        "Change diabetes from boolean to integer, True=1, False=0"
      ]
    },
    {
      "cell_type": "code",
      "metadata": {
        "collapsed": true,
        "id": "S-JIOsS-cEHy"
      },
      "source": [
        "diabetes_map = {True : 1, False : 0}\n",
        "data_frame['diabetes'] = data_frame['diabetes'].map(diabetes_map)"
      ],
      "execution_count": null,
      "outputs": []
    },
    {
      "cell_type": "markdown",
      "metadata": {
        "id": "2QdUIoFGcEHy"
      },
      "source": [
        "Verify that the diabetes data type has been changed."
      ]
    },
    {
      "cell_type": "code",
      "metadata": {
        "colab": {
          "base_uri": "https://localhost:8080/",
          "height": 204
        },
        "id": "OFOr3rPrcEHy",
        "outputId": "ae7c4a9d-05a8-4a38-8698-77691eeec0e4"
      },
      "source": [
        "data_frame.head(5)"
      ],
      "execution_count": null,
      "outputs": [
        {
          "output_type": "execute_result",
          "data": {
            "text/plain": [
              "   num_preg  glucose_conc  diastolic_bp  skin_thickness  insulin   bmi  \\\n",
              "0         6           148            72              35        0  33.6   \n",
              "1         1            85            66              29        0  26.6   \n",
              "2         8           183            64               0        0  23.3   \n",
              "3         1            89            66              23       94  28.1   \n",
              "4         0           137            40              35      168  43.1   \n",
              "\n",
              "   diab_pred  age  diabetes  \n",
              "0      0.627   50         1  \n",
              "1      0.351   31         0  \n",
              "2      0.672   32         1  \n",
              "3      0.167   21         0  \n",
              "4      2.288   33         1  "
            ],
            "text/html": [
              "<div>\n",
              "<style scoped>\n",
              "    .dataframe tbody tr th:only-of-type {\n",
              "        vertical-align: middle;\n",
              "    }\n",
              "\n",
              "    .dataframe tbody tr th {\n",
              "        vertical-align: top;\n",
              "    }\n",
              "\n",
              "    .dataframe thead th {\n",
              "        text-align: right;\n",
              "    }\n",
              "</style>\n",
              "<table border=\"1\" class=\"dataframe\">\n",
              "  <thead>\n",
              "    <tr style=\"text-align: right;\">\n",
              "      <th></th>\n",
              "      <th>num_preg</th>\n",
              "      <th>glucose_conc</th>\n",
              "      <th>diastolic_bp</th>\n",
              "      <th>skin_thickness</th>\n",
              "      <th>insulin</th>\n",
              "      <th>bmi</th>\n",
              "      <th>diab_pred</th>\n",
              "      <th>age</th>\n",
              "      <th>diabetes</th>\n",
              "    </tr>\n",
              "  </thead>\n",
              "  <tbody>\n",
              "    <tr>\n",
              "      <th>0</th>\n",
              "      <td>6</td>\n",
              "      <td>148</td>\n",
              "      <td>72</td>\n",
              "      <td>35</td>\n",
              "      <td>0</td>\n",
              "      <td>33.6</td>\n",
              "      <td>0.627</td>\n",
              "      <td>50</td>\n",
              "      <td>1</td>\n",
              "    </tr>\n",
              "    <tr>\n",
              "      <th>1</th>\n",
              "      <td>1</td>\n",
              "      <td>85</td>\n",
              "      <td>66</td>\n",
              "      <td>29</td>\n",
              "      <td>0</td>\n",
              "      <td>26.6</td>\n",
              "      <td>0.351</td>\n",
              "      <td>31</td>\n",
              "      <td>0</td>\n",
              "    </tr>\n",
              "    <tr>\n",
              "      <th>2</th>\n",
              "      <td>8</td>\n",
              "      <td>183</td>\n",
              "      <td>64</td>\n",
              "      <td>0</td>\n",
              "      <td>0</td>\n",
              "      <td>23.3</td>\n",
              "      <td>0.672</td>\n",
              "      <td>32</td>\n",
              "      <td>1</td>\n",
              "    </tr>\n",
              "    <tr>\n",
              "      <th>3</th>\n",
              "      <td>1</td>\n",
              "      <td>89</td>\n",
              "      <td>66</td>\n",
              "      <td>23</td>\n",
              "      <td>94</td>\n",
              "      <td>28.1</td>\n",
              "      <td>0.167</td>\n",
              "      <td>21</td>\n",
              "      <td>0</td>\n",
              "    </tr>\n",
              "    <tr>\n",
              "      <th>4</th>\n",
              "      <td>0</td>\n",
              "      <td>137</td>\n",
              "      <td>40</td>\n",
              "      <td>35</td>\n",
              "      <td>168</td>\n",
              "      <td>43.1</td>\n",
              "      <td>2.288</td>\n",
              "      <td>33</td>\n",
              "      <td>1</td>\n",
              "    </tr>\n",
              "  </tbody>\n",
              "</table>\n",
              "</div>"
            ]
          },
          "metadata": {
            "tags": []
          },
          "execution_count": 18
        }
      ]
    },
    {
      "cell_type": "markdown",
      "metadata": {
        "id": "m4CkGo_pcEHy"
      },
      "source": [
        "### Check for null values"
      ]
    },
    {
      "cell_type": "code",
      "metadata": {
        "colab": {
          "base_uri": "https://localhost:8080/"
        },
        "id": "u1zWlzuscEHy",
        "outputId": "e23f6235-9be0-47d7-b0a3-cc3dbdca2c64"
      },
      "source": [
        "data_frame.isnull().values.any()"
      ],
      "execution_count": null,
      "outputs": [
        {
          "output_type": "execute_result",
          "data": {
            "text/plain": [
              "False"
            ]
          },
          "metadata": {
            "tags": []
          },
          "execution_count": 19
        }
      ]
    },
    {
      "cell_type": "markdown",
      "metadata": {
        "id": "BRw9e0PvcEHz"
      },
      "source": [
        "No obvious null values."
      ]
    },
    {
      "cell_type": "markdown",
      "metadata": {
        "id": "jldMXuyAcEHz"
      },
      "source": [
        "### Check class distribution \n",
        "\n",
        "Rare events are hard to predict"
      ]
    },
    {
      "cell_type": "code",
      "metadata": {
        "colab": {
          "base_uri": "https://localhost:8080/"
        },
        "id": "0lq72S4icEHz",
        "outputId": "c7724487-55bd-462a-bd72-14c0137b3999"
      },
      "source": [
        "num_obs = len(data_frame)\n",
        "num_true = len(data_frame.loc[data_frame['diabetes'] == 1])\n",
        "num_false = len(data_frame.loc[data_frame['diabetes'] == 0])\n",
        "print(\"Number of True cases:  {0} ({1:2.2f}%)\".format(num_true, ((1.00 * num_true)/(1.0 * num_obs)) * 100))\n",
        "print(\"Number of False cases: {0} ({1:2.2f}%)\".format(num_false, (( 1.0 * num_false)/(1.0 * num_obs)) * 100))"
      ],
      "execution_count": null,
      "outputs": [
        {
          "output_type": "stream",
          "text": [
            "Number of True cases:  268 (34.90%)\n",
            "Number of False cases: 500 (65.10%)\n"
          ],
          "name": "stdout"
        }
      ]
    },
    {
      "cell_type": "markdown",
      "metadata": {
        "id": "CldKV2bzcEHz"
      },
      "source": [
        "Good distribution of true and false cases.  No special work needed."
      ]
    },
    {
      "cell_type": "markdown",
      "metadata": {
        "id": "i3_p5495cEHz"
      },
      "source": [
        "### Spliting the data \n",
        "\n",
        "70% for training, 30% for testing"
      ]
    },
    {
      "cell_type": "code",
      "metadata": {
        "collapsed": true,
        "id": "gytQhRmEcEHz"
      },
      "source": [
        "from sklearn.model_selection import train_test_split\n",
        "#from sklearn.cross_validation import train_test_split\n",
        "\n",
        "feature_col_names = ['num_preg', 'glucose_conc', 'diastolic_bp', 'skin_thickness', 'insulin', 'bmi', 'diab_pred', 'age']\n",
        "predicted_class_names = ['diabetes']\n",
        "\n",
        "X = data_frame[feature_col_names].values     # predictor feature columns (8 X m)\n",
        "y = data_frame[predicted_class_names].values # predicted class (1=true, 0=false) column (1 X m)\n",
        "split_test_size = 0.30\n",
        "\n",
        "X_train, X_test, y_train, y_test = train_test_split(X, y, test_size=split_test_size, random_state=42) \n",
        "                            # test_size = 0.3 is 30%, 42 is the answer to everything"
      ],
      "execution_count": null,
      "outputs": []
    },
    {
      "cell_type": "markdown",
      "metadata": {
        "id": "rD_ROsYNcEHz"
      },
      "source": [
        "We check to ensure we have the the desired 70% train, 30% test split of the data"
      ]
    },
    {
      "cell_type": "code",
      "metadata": {
        "colab": {
          "base_uri": "https://localhost:8080/"
        },
        "id": "etO79frycEH0",
        "outputId": "fa8cf9cc-284c-4143-b708-0e1fa091ddd9"
      },
      "source": [
        "trainval = (1.0 * len(X_train)) / (1.0 * len(data_frame.index))\n",
        "testval = (1.0 * len(X_test)) / (1.0 * len(data_frame.index))\n",
        "print(\"{0:0.2f}% in training set\".format(trainval * 100))\n",
        "print(\"{0:0.2f}% in test set\".format(testval * 100))"
      ],
      "execution_count": null,
      "outputs": [
        {
          "output_type": "stream",
          "text": [
            "69.92% in training set\n",
            "30.08% in test set\n"
          ],
          "name": "stdout"
        }
      ]
    },
    {
      "cell_type": "markdown",
      "metadata": {
        "id": "pQsOVnHbcEH0"
      },
      "source": [
        "#### Verifying predicted value was split correctly"
      ]
    },
    {
      "cell_type": "code",
      "metadata": {
        "collapsed": true,
        "colab": {
          "base_uri": "https://localhost:8080/"
        },
        "id": "4WWhLLIhcEH0",
        "outputId": "c79ec397-452c-43f6-99e3-a824ac8df21d"
      },
      "source": [
        "print(\"Original True  : {0} ({1:0.2f}%)\".format(len(data_frame.loc[data_frame['diabetes'] == 1]), (len(data_frame.loc[data_frame['diabetes'] == 1])/len(data_frame.index)) * 100.0))\n",
        "print(\"Original False : {0} ({1:0.2f}%)\".format(len(data_frame.loc[data_frame['diabetes'] == 0]), (len(data_frame.loc[data_frame['diabetes'] == 0])/len(data_frame.index)) * 100.0))\n",
        "print(\"\")\n",
        "print(\"Training True  : {0} ({1:0.2f}%)\".format(len(y_train[y_train[:] == 1]), (len(y_train[y_train[:] == 1])/len(y_train) * 100.0)))\n",
        "print(\"Training False : {0} ({1:0.2f}%)\".format(len(y_train[y_train[:] == 0]), (len(y_train[y_train[:] == 0])/len(y_train) * 100.0)))\n",
        "print(\"\")\n",
        "print(\"Test True      : {0} ({1:0.2f}%)\".format(len(y_test[y_test[:] == 1]), (len(y_test[y_test[:] == 1])/len(y_test) * 100.0)))\n",
        "print(\"Test False     : {0} ({1:0.2f}%)\".format(len(y_test[y_test[:] == 0]), (len(y_test[y_test[:] == 0])/len(y_test) * 100.0)))\n"
      ],
      "execution_count": null,
      "outputs": [
        {
          "output_type": "stream",
          "text": [
            "Original True  : 268 (0.00%)\n",
            "Original False : 500 (0.00%)\n",
            "\n",
            "Training True  : 188 (0.00%)\n",
            "Training False : 349 (0.00%)\n",
            "\n",
            "Test True      : 80 (0.00%)\n",
            "Test False     : 151 (0.00%)\n"
          ],
          "name": "stdout"
        }
      ]
    },
    {
      "cell_type": "markdown",
      "metadata": {
        "id": "fGAm5oEdcEH1"
      },
      "source": [
        "### Post-split Data Preparation"
      ]
    },
    {
      "cell_type": "markdown",
      "metadata": {
        "id": "x3TKlFVecEH1"
      },
      "source": [
        "#### Hidden Missing Values"
      ]
    },
    {
      "cell_type": "code",
      "metadata": {
        "colab": {
          "base_uri": "https://localhost:8080/",
          "height": 204
        },
        "id": "NjZ5FdWVcEH1",
        "outputId": "3d96ca24-b22d-47e4-e0c8-76797a4ae853"
      },
      "source": [
        "data_frame.head()"
      ],
      "execution_count": null,
      "outputs": [
        {
          "output_type": "execute_result",
          "data": {
            "text/plain": [
              "   num_preg  glucose_conc  diastolic_bp  skin_thickness  insulin   bmi  \\\n",
              "0         6           148            72              35        0  33.6   \n",
              "1         1            85            66              29        0  26.6   \n",
              "2         8           183            64               0        0  23.3   \n",
              "3         1            89            66              23       94  28.1   \n",
              "4         0           137            40              35      168  43.1   \n",
              "\n",
              "   diab_pred  age  diabetes  \n",
              "0      0.627   50         1  \n",
              "1      0.351   31         0  \n",
              "2      0.672   32         1  \n",
              "3      0.167   21         0  \n",
              "4      2.288   33         1  "
            ],
            "text/html": [
              "<div>\n",
              "<style scoped>\n",
              "    .dataframe tbody tr th:only-of-type {\n",
              "        vertical-align: middle;\n",
              "    }\n",
              "\n",
              "    .dataframe tbody tr th {\n",
              "        vertical-align: top;\n",
              "    }\n",
              "\n",
              "    .dataframe thead th {\n",
              "        text-align: right;\n",
              "    }\n",
              "</style>\n",
              "<table border=\"1\" class=\"dataframe\">\n",
              "  <thead>\n",
              "    <tr style=\"text-align: right;\">\n",
              "      <th></th>\n",
              "      <th>num_preg</th>\n",
              "      <th>glucose_conc</th>\n",
              "      <th>diastolic_bp</th>\n",
              "      <th>skin_thickness</th>\n",
              "      <th>insulin</th>\n",
              "      <th>bmi</th>\n",
              "      <th>diab_pred</th>\n",
              "      <th>age</th>\n",
              "      <th>diabetes</th>\n",
              "    </tr>\n",
              "  </thead>\n",
              "  <tbody>\n",
              "    <tr>\n",
              "      <th>0</th>\n",
              "      <td>6</td>\n",
              "      <td>148</td>\n",
              "      <td>72</td>\n",
              "      <td>35</td>\n",
              "      <td>0</td>\n",
              "      <td>33.6</td>\n",
              "      <td>0.627</td>\n",
              "      <td>50</td>\n",
              "      <td>1</td>\n",
              "    </tr>\n",
              "    <tr>\n",
              "      <th>1</th>\n",
              "      <td>1</td>\n",
              "      <td>85</td>\n",
              "      <td>66</td>\n",
              "      <td>29</td>\n",
              "      <td>0</td>\n",
              "      <td>26.6</td>\n",
              "      <td>0.351</td>\n",
              "      <td>31</td>\n",
              "      <td>0</td>\n",
              "    </tr>\n",
              "    <tr>\n",
              "      <th>2</th>\n",
              "      <td>8</td>\n",
              "      <td>183</td>\n",
              "      <td>64</td>\n",
              "      <td>0</td>\n",
              "      <td>0</td>\n",
              "      <td>23.3</td>\n",
              "      <td>0.672</td>\n",
              "      <td>32</td>\n",
              "      <td>1</td>\n",
              "    </tr>\n",
              "    <tr>\n",
              "      <th>3</th>\n",
              "      <td>1</td>\n",
              "      <td>89</td>\n",
              "      <td>66</td>\n",
              "      <td>23</td>\n",
              "      <td>94</td>\n",
              "      <td>28.1</td>\n",
              "      <td>0.167</td>\n",
              "      <td>21</td>\n",
              "      <td>0</td>\n",
              "    </tr>\n",
              "    <tr>\n",
              "      <th>4</th>\n",
              "      <td>0</td>\n",
              "      <td>137</td>\n",
              "      <td>40</td>\n",
              "      <td>35</td>\n",
              "      <td>168</td>\n",
              "      <td>43.1</td>\n",
              "      <td>2.288</td>\n",
              "      <td>33</td>\n",
              "      <td>1</td>\n",
              "    </tr>\n",
              "  </tbody>\n",
              "</table>\n",
              "</div>"
            ]
          },
          "metadata": {
            "tags": []
          },
          "execution_count": 27
        }
      ]
    },
    {
      "cell_type": "markdown",
      "metadata": {
        "id": "3IkvKXU8cEH1"
      },
      "source": [
        "Are these 0 values possible?\n",
        "\n",
        "How many rows have have unexpected 0 values?"
      ]
    },
    {
      "cell_type": "code",
      "metadata": {
        "colab": {
          "base_uri": "https://localhost:8080/"
        },
        "id": "PVMVLwDacEH1",
        "outputId": "cfc7a67a-e80b-4a50-a900-280b7848c7f6"
      },
      "source": [
        "print(\"# rows in dataframe {0}\".format(len(data_frame)))\n",
        "print(\"# rows missing glucose_conc: {0}\".format(len(data_frame.loc[data_frame['glucose_conc'] == 0])))\n",
        "print(\"# rows missing diastolic_bp: {0}\".format(len(data_frame.loc[data_frame['diastolic_bp'] == 0])))\n",
        "print(\"# rows missing thickness: {0}\".format(len(data_frame.loc[data_frame['skin_thickness'] == 0])))\n",
        "print(\"# rows missing insulin: {0}\".format(len(data_frame.loc[data_frame['insulin'] == 0])))\n",
        "print(\"# rows missing bmi: {0}\".format(len(data_frame.loc[data_frame['bmi'] == 0])))\n",
        "print(\"# rows missing diab_pred: {0}\".format(len(data_frame.loc[data_frame['diab_pred'] == 0])))\n",
        "print(\"# rows missing age: {0}\".format(len(data_frame.loc[data_frame['age'] == 0])))"
      ],
      "execution_count": null,
      "outputs": [
        {
          "output_type": "stream",
          "text": [
            "# rows in dataframe 768\n",
            "# rows missing glucose_conc: 5\n",
            "# rows missing diastolic_bp: 35\n",
            "# rows missing thickness: 227\n",
            "# rows missing insulin: 374\n",
            "# rows missing bmi: 11\n",
            "# rows missing diab_pred: 0\n",
            "# rows missing age: 0\n"
          ],
          "name": "stdout"
        }
      ]
    },
    {
      "cell_type": "markdown",
      "metadata": {
        "id": "bkDt7QY3cEH1"
      },
      "source": [
        "#### Impute with the mean"
      ]
    },
    {
      "cell_type": "code",
      "metadata": {
        "collapsed": true,
        "colab": {
          "base_uri": "https://localhost:8080/"
        },
        "id": "oOxnbIhBcEH2",
        "outputId": "0c071ec1-6f6c-44a2-a270-061299ce36e3"
      },
      "source": [
        "from sklearn.preprocessing import Imputer\n",
        "\n",
        "#Impute with mean all 0 readings\n",
        "fill_0 = Imputer(missing_values=0, strategy=\"mean\", axis=0)\n",
        "\n",
        "X_train = fill_0.fit_transform(X_train)\n",
        "X_test = fill_0.fit_transform(X_test)"
      ],
      "execution_count": null,
      "outputs": [
        {
          "output_type": "stream",
          "text": [
            "/usr/local/lib/python2.7/dist-packages/sklearn/utils/deprecation.py:58: DeprecationWarning: Class Imputer is deprecated; Imputer was deprecated in version 0.20 and will be removed in 0.22. Import impute.SimpleImputer from sklearn instead.\n",
            "  warnings.warn(msg, category=DeprecationWarning)\n"
          ],
          "name": "stderr"
        }
      ]
    },
    {
      "cell_type": "markdown",
      "metadata": {
        "id": "jbjeoH-ocEH2"
      },
      "source": [
        "## Training Initial Algorithm - Naive Bayes"
      ]
    },
    {
      "cell_type": "code",
      "metadata": {
        "collapsed": true,
        "colab": {
          "base_uri": "https://localhost:8080/"
        },
        "id": "5CV06pS_cEH2",
        "outputId": "3fbf7cc4-0aa4-439d-8d3d-04a8a29b63e3"
      },
      "source": [
        "from sklearn.naive_bayes import GaussianNB\n",
        "\n",
        "# create Gaussian Naive Bayes model object and train it with the data\n",
        "nb_model = GaussianNB()\n",
        "\n",
        "nb_model.fit(X_train, y_train.ravel())"
      ],
      "execution_count": null,
      "outputs": [
        {
          "output_type": "execute_result",
          "data": {
            "text/plain": [
              "GaussianNB(priors=None, var_smoothing=1e-09)"
            ]
          },
          "metadata": {
            "tags": []
          },
          "execution_count": 30
        }
      ]
    },
    {
      "cell_type": "markdown",
      "metadata": {
        "collapsed": true,
        "id": "sb2VC0ewcEH2"
      },
      "source": [
        "## Performance on Training Data\n"
      ]
    },
    {
      "cell_type": "code",
      "metadata": {
        "collapsed": true,
        "id": "YRZ5e7y0cEH2"
      },
      "source": [
        "# this returns array of predicted results\n",
        "prediction_from_trained_data = nb_model.predict(X_train)"
      ],
      "execution_count": null,
      "outputs": []
    },
    {
      "cell_type": "code",
      "metadata": {
        "colab": {
          "base_uri": "https://localhost:8080/"
        },
        "id": "SjxQ8c51cEH2",
        "outputId": "1308fe41-9511-4ab8-c757-6e30c37f92a3"
      },
      "source": [
        "from sklearn import metrics\n",
        "\n",
        "accuracy = metrics.accuracy_score(y_train, prediction_from_trained_data)\n",
        "\n",
        "print (\"Accuracy of our naive bayes model is : {0:.4f}\".format(accuracy))"
      ],
      "execution_count": null,
      "outputs": [
        {
          "output_type": "stream",
          "text": [
            "Accuracy of our naive bayes model is : 0.7542\n"
          ],
          "name": "stdout"
        }
      ]
    },
    {
      "cell_type": "markdown",
      "metadata": {
        "id": "A52ufBV2cEH2"
      },
      "source": [
        "## Performance on Testing Data"
      ]
    },
    {
      "cell_type": "code",
      "metadata": {
        "colab": {
          "base_uri": "https://localhost:8080/"
        },
        "id": "ru9fyS5FcEH2",
        "outputId": "faaee8dc-dc32-4bc0-ef1a-bed18930e601"
      },
      "source": [
        "# this returns array of predicted results from test_data\n",
        "prediction_from_test_data = nb_model.predict(X_test)\n",
        "\n",
        "accuracy = metrics.accuracy_score(y_test, prediction_from_test_data)\n",
        "\n",
        "print (\"Accuracy of our naive bayes model is: {0:0.4f}\".format(accuracy))"
      ],
      "execution_count": null,
      "outputs": [
        {
          "output_type": "stream",
          "text": [
            "Accuracy of our naive bayes model is: 0.7359\n"
          ],
          "name": "stdout"
        }
      ]
    },
    {
      "cell_type": "code",
      "metadata": {
        "colab": {
          "base_uri": "https://localhost:8080/"
        },
        "id": "sgLiKS8LcEH3",
        "outputId": "df557e4f-ffbe-46ba-d73c-7e62ce3930f8"
      },
      "source": [
        "print (\"Confusion Matrix\")\n",
        "\n",
        "# labels for set 1=True to upper left and 0 = False to lower right\n",
        "print (\"{0}\".format(metrics.confusion_matrix(y_test, prediction_from_test_data, labels=[1, 0])))"
      ],
      "execution_count": null,
      "outputs": [
        {
          "output_type": "stream",
          "text": [
            "Confusion Matrix\n",
            "[[ 52  28]\n",
            " [ 33 118]]\n"
          ],
          "name": "stdout"
        }
      ]
    },
    {
      "cell_type": "code",
      "metadata": {
        "colab": {
          "base_uri": "https://localhost:8080/"
        },
        "id": "EgGuT-0NcEH3",
        "outputId": "2bde9a84-d489-460d-a197-560eb1a9821d"
      },
      "source": [
        "print (\"Classification Report\")\n",
        "\n",
        "# labels for set 1=True to upper left and 0 = False to lower right\n",
        "print (\"{0}\".format(metrics.classification_report(y_test, prediction_from_test_data, labels=[1, 0])))"
      ],
      "execution_count": null,
      "outputs": [
        {
          "output_type": "stream",
          "text": [
            "Classification Report\n",
            "              precision    recall  f1-score   support\n",
            "\n",
            "           1       0.61      0.65      0.63        80\n",
            "           0       0.81      0.78      0.79       151\n",
            "\n",
            "   micro avg       0.74      0.74      0.74       231\n",
            "   macro avg       0.71      0.72      0.71       231\n",
            "weighted avg       0.74      0.74      0.74       231\n",
            "\n"
          ],
          "name": "stdout"
        }
      ]
    },
    {
      "cell_type": "code",
      "metadata": {
        "collapsed": true,
        "colab": {
          "base_uri": "https://localhost:8080/"
        },
        "id": "aR3pVOUfcEH3",
        "outputId": "97ed60be-2575-4bb3-8f1c-c67147195ec5"
      },
      "source": [
        "from sklearn.ensemble import RandomForestClassifier\n",
        "\n",
        "# Create a RandomForestClassifier object\n",
        "rf_model = RandomForestClassifier(random_state=42)\n",
        "\n",
        "rf_model.fit(X_train, y_train.ravel())"
      ],
      "execution_count": null,
      "outputs": [
        {
          "output_type": "stream",
          "text": [
            "/usr/local/lib/python2.7/dist-packages/sklearn/ensemble/forest.py:246: FutureWarning: The default value of n_estimators will change from 10 in version 0.20 to 100 in 0.22.\n",
            "  \"10 in version 0.20 to 100 in 0.22.\", FutureWarning)\n"
          ],
          "name": "stderr"
        },
        {
          "output_type": "execute_result",
          "data": {
            "text/plain": [
              "RandomForestClassifier(bootstrap=True, class_weight=None, criterion='gini',\n",
              "            max_depth=None, max_features='auto', max_leaf_nodes=None,\n",
              "            min_impurity_decrease=0.0, min_impurity_split=None,\n",
              "            min_samples_leaf=1, min_samples_split=2,\n",
              "            min_weight_fraction_leaf=0.0, n_estimators=10, n_jobs=None,\n",
              "            oob_score=False, random_state=42, verbose=0, warm_start=False)"
            ]
          },
          "metadata": {
            "tags": []
          },
          "execution_count": 36
        }
      ]
    },
    {
      "cell_type": "markdown",
      "metadata": {
        "id": "PjlIealecEH3"
      },
      "source": [
        "# Predict Training Data"
      ]
    },
    {
      "cell_type": "code",
      "metadata": {
        "colab": {
          "base_uri": "https://localhost:8080/"
        },
        "id": "wMV75u34cEH3",
        "outputId": "0ffc41cd-b8b5-4b1d-f967-18b16c822cc2"
      },
      "source": [
        "rf_predict_train = rf_model.predict(X_train)\n",
        "\n",
        "#get accuracy\n",
        "rf_accuracy = metrics.accuracy_score(y_train, rf_predict_train)\n",
        "\n",
        "#print accuracy\n",
        "print (\"Accuracy: {0:.4f}\".format(rf_accuracy))"
      ],
      "execution_count": null,
      "outputs": [
        {
          "output_type": "stream",
          "text": [
            "Accuracy: 0.9870\n"
          ],
          "name": "stdout"
        }
      ]
    },
    {
      "cell_type": "markdown",
      "metadata": {
        "id": "axIoIhDocEH3"
      },
      "source": [
        "# Predict Testing Data"
      ]
    },
    {
      "cell_type": "code",
      "metadata": {
        "colab": {
          "base_uri": "https://localhost:8080/"
        },
        "id": "3I6Dlu8mcEH3",
        "outputId": "0620f5d3-b5c3-4825-d611-522e4f7a7f2f"
      },
      "source": [
        "rf_predict_test = rf_model.predict(X_test)\n",
        "\n",
        "#get accuracy\n",
        "rf_accuracy_testdata = metrics.accuracy_score(y_test, rf_predict_test)\n",
        "\n",
        "#print accuracy\n",
        "print (\"Accuracy: {0:.4f}\".format(rf_accuracy_testdata))"
      ],
      "execution_count": null,
      "outputs": [
        {
          "output_type": "stream",
          "text": [
            "Accuracy: 0.7100\n"
          ],
          "name": "stdout"
        }
      ]
    },
    {
      "cell_type": "code",
      "metadata": {
        "colab": {
          "base_uri": "https://localhost:8080/"
        },
        "id": "strqJjFQcEH3",
        "outputId": "b2e21b5b-d1ce-4259-94a0-ab1e84b0278d"
      },
      "source": [
        "print (\"Confusion Matrix for Random Forest\")\n",
        "\n",
        "# labels for set 1=True to upper left and 0 = False to lower right\n",
        "print (\"{0}\".format(metrics.confusion_matrix(y_test, rf_predict_test, labels=[1, 0])))\n",
        "\n",
        "print (\"\")\n",
        "\n",
        "print (\"Classification Report\\n\")\n",
        "\n",
        "# labels for set 1=True to upper left and 0 = False to lower right\n",
        "print (\"{0}\".format(metrics.classification_report(y_test, rf_predict_test, labels=[1, 0])))"
      ],
      "execution_count": null,
      "outputs": [
        {
          "output_type": "stream",
          "text": [
            "Confusion Matrix for Random Forest\n",
            "[[ 43  37]\n",
            " [ 30 121]]\n",
            "\n",
            "Classification Report\n",
            "\n",
            "              precision    recall  f1-score   support\n",
            "\n",
            "           1       0.59      0.54      0.56        80\n",
            "           0       0.77      0.80      0.78       151\n",
            "\n",
            "   micro avg       0.71      0.71      0.71       231\n",
            "   macro avg       0.68      0.67      0.67       231\n",
            "weighted avg       0.70      0.71      0.71       231\n",
            "\n"
          ],
          "name": "stdout"
        }
      ]
    },
    {
      "cell_type": "markdown",
      "metadata": {
        "collapsed": true,
        "id": "iaFsYyr2cEH4"
      },
      "source": [
        "#Logistic Regression"
      ]
    },
    {
      "cell_type": "code",
      "metadata": {
        "colab": {
          "base_uri": "https://localhost:8080/"
        },
        "id": "P2-rrmWOcEH4",
        "outputId": "1fbe1b70-fc2a-43d6-b57e-308b8f53b626"
      },
      "source": [
        "from sklearn.linear_model import LogisticRegression\n",
        "\n",
        "lr_model = LogisticRegression(C=0.7, random_state=42)\n",
        "lr_model.fit(X_train, y_train.ravel())\n",
        "lr_predict_test = lr_model.predict(X_test)\n",
        "\n",
        "# training metrics\n",
        "print (\"Accuracy : {0:.4f}\".format(metrics.accuracy_score(y_test, lr_predict_test)))\n",
        "\n",
        "print (\"Confusion Matrix\")\n",
        "\n",
        "print (metrics.confusion_matrix(y_test, lr_predict_test, labels=[1, 0]))\n",
        "\n",
        "print (\"\")\n",
        "\n",
        "print (\"Classification Report\")\n",
        "\n",
        "print (metrics.classification_report(y_test, lr_predict_test, labels=[1, 0]))"
      ],
      "execution_count": null,
      "outputs": [
        {
          "output_type": "stream",
          "text": [
            "Accuracy : 0.7446\n",
            "Confusion Matrix\n",
            "[[ 44  36]\n",
            " [ 23 128]]\n",
            "\n",
            "Classification Report\n",
            "              precision    recall  f1-score   support\n",
            "\n",
            "           1       0.66      0.55      0.60        80\n",
            "           0       0.78      0.85      0.81       151\n",
            "\n",
            "   micro avg       0.74      0.74      0.74       231\n",
            "   macro avg       0.72      0.70      0.71       231\n",
            "weighted avg       0.74      0.74      0.74       231\n",
            "\n"
          ],
          "name": "stdout"
        },
        {
          "output_type": "stream",
          "text": [
            "/usr/local/lib/python2.7/dist-packages/sklearn/linear_model/logistic.py:433: FutureWarning: Default solver will be changed to 'lbfgs' in 0.22. Specify a solver to silence this warning.\n",
            "  FutureWarning)\n"
          ],
          "name": "stderr"
        }
      ]
    },
    {
      "cell_type": "code",
      "metadata": {
        "colab": {
          "base_uri": "https://localhost:8080/"
        },
        "id": "vZdzP5UlcEH4",
        "outputId": "2bad1727-1ee1-48fb-f033-22ef50ca8e6f"
      },
      "source": [
        "from sklearn.linear_model import LogisticRegressionCV\n",
        "\n",
        "lr_cv_model = LogisticRegressionCV(n_jobs=-1, random_state=42, Cs=3, cv=10, refit=False, class_weight=\"balanced\")  \n",
        "\n",
        "# set number of jobs to -1 which uses all cores to parallelize\n",
        "lr_cv_model.fit(X_train, y_train.ravel())\n",
        "\n",
        "lr_cv_predict_test = lr_cv_model.predict(X_test)\n",
        "\n",
        "# training metrics\n",
        "print( \"Accuracy: {0:.4f}\".format(metrics.accuracy_score(y_test, lr_cv_predict_test)))\n",
        "print (metrics.confusion_matrix(y_test, lr_cv_predict_test, labels=[1, 0])) \n",
        "print (\"\")\n",
        "print (\"Classification Report\")\n",
        "print (metrics.classification_report(y_test, lr_cv_predict_test, labels=[1,0]))"
      ],
      "execution_count": null,
      "outputs": [
        {
          "output_type": "stream",
          "text": [
            "Accuracy: 0.7013\n",
            "[[ 54  26]\n",
            " [ 43 108]]\n",
            "\n",
            "Classification Report\n",
            "              precision    recall  f1-score   support\n",
            "\n",
            "           1       0.56      0.68      0.61        80\n",
            "           0       0.81      0.72      0.76       151\n",
            "\n",
            "   micro avg       0.70      0.70      0.70       231\n",
            "   macro avg       0.68      0.70      0.68       231\n",
            "weighted avg       0.72      0.70      0.71       231\n",
            "\n"
          ],
          "name": "stdout"
        }
      ]
    },
    {
      "cell_type": "markdown",
      "metadata": {
        "id": "XOwCV_khcEH4"
      },
      "source": [
        "#Support vector Machine"
      ]
    },
    {
      "cell_type": "code",
      "metadata": {
        "colab": {
          "base_uri": "https://localhost:8080/"
        },
        "id": "v1A2vodrcEH5",
        "outputId": "dea31154-7430-4d31-a1f2-93f5a1724c11"
      },
      "source": [
        "from sklearn.svm import SVC\n",
        "# Create a RandomForestClassifier object\n",
        "svm_model = SVC(kernel='linear', C=1, random_state=42)\n",
        "\n",
        "svm_model.fit(X_train, y_train.ravel())\n"
      ],
      "execution_count": null,
      "outputs": [
        {
          "output_type": "execute_result",
          "data": {
            "text/plain": [
              "SVC(C=1, cache_size=200, class_weight=None, coef0=0.0,\n",
              "  decision_function_shape='ovr', degree=3, gamma='auto_deprecated',\n",
              "  kernel='linear', max_iter=-1, probability=False, random_state=42,\n",
              "  shrinking=True, tol=0.001, verbose=False)"
            ]
          },
          "metadata": {
            "tags": []
          },
          "execution_count": 42
        }
      ]
    },
    {
      "cell_type": "code",
      "metadata": {
        "id": "2tD2gMT4cEH5"
      },
      "source": [
        "# this returns array of predicted results\n",
        "prediction_from_trained_data = svm_model.predict(X_train)"
      ],
      "execution_count": null,
      "outputs": []
    },
    {
      "cell_type": "code",
      "metadata": {
        "colab": {
          "base_uri": "https://localhost:8080/"
        },
        "id": "6tHvHj48cEH5",
        "outputId": "022e1c4e-b508-47d9-8eb3-6e74a1283601"
      },
      "source": [
        "from sklearn import metrics\n",
        "\n",
        "accuracy = metrics.accuracy_score(y_train, prediction_from_trained_data)\n",
        "\n",
        "print (\"Accuracy of our SVM model is : {0:.4f}\".format(accuracy))"
      ],
      "execution_count": null,
      "outputs": [
        {
          "output_type": "stream",
          "text": [
            "Accuracy of our SVM model is : 0.7840\n"
          ],
          "name": "stdout"
        }
      ]
    },
    {
      "cell_type": "code",
      "metadata": {
        "colab": {
          "base_uri": "https://localhost:8080/"
        },
        "id": "B8bFkS7PcEH5",
        "outputId": "3049150d-08f1-44a9-8a71-4535dfe576dd"
      },
      "source": [
        "svm_predict_test = svm_model.predict(X_test)\n",
        "\n",
        "#get accuracy\n",
        "svm_accuracy_testdata = metrics.accuracy_score(y_test, svm_predict_test)\n",
        "\n",
        "#print accuracy\n",
        "print (\"Accuracy: {0:.4f}\".format(svm_accuracy_testdata))"
      ],
      "execution_count": null,
      "outputs": [
        {
          "output_type": "stream",
          "text": [
            "Accuracy: 0.7359\n"
          ],
          "name": "stdout"
        }
      ]
    },
    {
      "cell_type": "code",
      "metadata": {
        "colab": {
          "base_uri": "https://localhost:8080/"
        },
        "id": "o-33MVHscEH5",
        "outputId": "dcc4af13-eafa-4f5b-8f52-b7c789cca982"
      },
      "source": [
        "print (\"Confusion Matrix for Support Vector Amchine\")\n",
        "\n",
        "# labels for set 1=True to upper left and 0 = False to lower right\n",
        "print (\"{0}\".format(metrics.confusion_matrix(y_test, svm_predict_test, labels=[1, 0])))\n",
        "\n",
        "print (\"\")\n",
        "\n",
        "print (\"Classification Report\\n\")\n",
        "\n",
        "# labels for set 1=True to upper left and 0 = False to lower right\n",
        "print (\"{0}\".format(metrics.classification_report(y_test, svm_predict_test, labels=[1, 0])))"
      ],
      "execution_count": null,
      "outputs": [
        {
          "output_type": "stream",
          "text": [
            "Confusion Matrix for Support Vector Amchine\n",
            "[[ 46  34]\n",
            " [ 27 124]]\n",
            "\n",
            "Classification Report\n",
            "\n",
            "              precision    recall  f1-score   support\n",
            "\n",
            "           1       0.63      0.57      0.60        80\n",
            "           0       0.78      0.82      0.80       151\n",
            "\n",
            "   micro avg       0.74      0.74      0.74       231\n",
            "   macro avg       0.71      0.70      0.70       231\n",
            "weighted avg       0.73      0.74      0.73       231\n",
            "\n"
          ],
          "name": "stdout"
        }
      ]
    },
    {
      "cell_type": "code",
      "metadata": {
        "colab": {
          "base_uri": "https://localhost:8080/"
        },
        "id": "CLQ3ElO4cEH5",
        "outputId": "ac7e4be0-7083-4756-b61d-6522b56f1190"
      },
      "source": [
        "from sklearn.neural_network import MLPClassifier\n",
        "# Create a RandomForestClassifier object\n",
        "ann_model = MLPClassifier(hidden_layer_sizes=(13,13,13),max_iter=500, random_state=42)\n",
        "\n",
        "ann_model.fit(X_train, y_train.ravel())\n"
      ],
      "execution_count": null,
      "outputs": [
        {
          "output_type": "execute_result",
          "data": {
            "text/plain": [
              "MLPClassifier(activation='relu', alpha=0.0001, batch_size='auto', beta_1=0.9,\n",
              "       beta_2=0.999, early_stopping=False, epsilon=1e-08,\n",
              "       hidden_layer_sizes=(13, 13, 13), learning_rate='constant',\n",
              "       learning_rate_init=0.001, max_iter=500, momentum=0.9,\n",
              "       n_iter_no_change=10, nesterovs_momentum=True, power_t=0.5,\n",
              "       random_state=42, shuffle=True, solver='adam', tol=0.0001,\n",
              "       validation_fraction=0.1, verbose=False, warm_start=False)"
            ]
          },
          "metadata": {
            "tags": []
          },
          "execution_count": 47
        }
      ]
    },
    {
      "cell_type": "code",
      "metadata": {
        "id": "O3HYkppzcEH5"
      },
      "source": [
        "# this returns array of predicted results\n",
        "prediction_from_trained_data = ann_model.predict(X_train)"
      ],
      "execution_count": null,
      "outputs": []
    },
    {
      "cell_type": "code",
      "metadata": {
        "colab": {
          "base_uri": "https://localhost:8080/"
        },
        "id": "FJXa7IdccEH6",
        "outputId": "88ea97b1-08b0-4718-9475-38091620f990"
      },
      "source": [
        "from sklearn import metrics\n",
        "\n",
        "accuracy = metrics.accuracy_score(y_train, prediction_from_trained_data)\n",
        "\n",
        "print (\"Accuracy of our ANN model is : {0:.4f}\".format(accuracy))"
      ],
      "execution_count": null,
      "outputs": [
        {
          "output_type": "stream",
          "text": [
            "Accuracy of our ANN model is : 0.8045\n"
          ],
          "name": "stdout"
        }
      ]
    },
    {
      "cell_type": "code",
      "metadata": {
        "colab": {
          "base_uri": "https://localhost:8080/"
        },
        "id": "eib-lSZAcEH6",
        "outputId": "4e3ebc6a-e811-448e-c577-c61b6e8507ec"
      },
      "source": [
        "ann_predict_test = ann_model.predict(X_test)\n",
        "\n",
        "#get accuracy\n",
        "ann_accuracy_testdata = metrics.accuracy_score(y_test, ann_predict_test)\n",
        "\n",
        "#print accuracy\n",
        "print (\"Accuracy: {0:.4f}\".format(ann_accuracy_testdata))"
      ],
      "execution_count": null,
      "outputs": [
        {
          "output_type": "stream",
          "text": [
            "Accuracy: 0.7013\n"
          ],
          "name": "stdout"
        }
      ]
    },
    {
      "cell_type": "code",
      "metadata": {
        "colab": {
          "base_uri": "https://localhost:8080/"
        },
        "id": "Fgn-uOgxcEH6",
        "outputId": "2be6e70d-3a13-41c5-a7f2-c8419fab1a4f"
      },
      "source": [
        "print (\"Confusion Matrix for Artificial Neural Network\")\n",
        "\n",
        "# labels for set 1=True to upper left and 0 = False to lower right\n",
        "print (\"{0}\".format(metrics.confusion_matrix(y_test, ann_predict_test, labels=[1, 0])))\n",
        "\n",
        "print (\"\")\n",
        "\n",
        "print (\"Classification Report\\n\")\n",
        "\n",
        "# labels for set 1=True to upper left and 0 = False to lower right\n",
        "print (\"{0}\".format(metrics.classification_report(y_test, ann_predict_test, labels=[ 1,0])))"
      ],
      "execution_count": null,
      "outputs": [
        {
          "output_type": "stream",
          "text": [
            "Confusion Matrix for Artificial Neural Network\n",
            "[[ 40  40]\n",
            " [ 29 122]]\n",
            "\n",
            "Classification Report\n",
            "\n",
            "              precision    recall  f1-score   support\n",
            "\n",
            "           1       0.58      0.50      0.54        80\n",
            "           0       0.75      0.81      0.78       151\n",
            "\n",
            "   micro avg       0.70      0.70      0.70       231\n",
            "   macro avg       0.67      0.65      0.66       231\n",
            "weighted avg       0.69      0.70      0.70       231\n",
            "\n"
          ],
          "name": "stdout"
        }
      ]
    },
    {
      "cell_type": "markdown",
      "metadata": {
        "id": "mRtLtVuYcEH6"
      },
      "source": [
        "#Decision Tree"
      ]
    },
    {
      "cell_type": "code",
      "metadata": {
        "colab": {
          "base_uri": "https://localhost:8080/"
        },
        "id": "5nx6aS0bcEH6",
        "outputId": "7fff4c0e-9d1b-45b9-fed6-cc6e94445ff9"
      },
      "source": [
        "from sklearn.tree import DecisionTreeClassifier\n",
        "\n",
        "# create Gaussian Naive Bayes model object and train it with the data\n",
        "dt_model = DecisionTreeClassifier(random_state=42)\n",
        "\n",
        "dt_model.fit(X_train, y_train.ravel())"
      ],
      "execution_count": null,
      "outputs": [
        {
          "output_type": "execute_result",
          "data": {
            "text/plain": [
              "DecisionTreeClassifier(class_weight=None, criterion='gini', max_depth=None,\n",
              "            max_features=None, max_leaf_nodes=None,\n",
              "            min_impurity_decrease=0.0, min_impurity_split=None,\n",
              "            min_samples_leaf=1, min_samples_split=2,\n",
              "            min_weight_fraction_leaf=0.0, presort=False, random_state=42,\n",
              "            splitter='best')"
            ]
          },
          "metadata": {
            "tags": []
          },
          "execution_count": 52
        }
      ]
    },
    {
      "cell_type": "code",
      "metadata": {
        "id": "yjTLUoxFcEH6"
      },
      "source": [
        "# this returns array of predicted results\n",
        "prediction_from_trained_data = dt_model.predict(X_train)"
      ],
      "execution_count": null,
      "outputs": []
    },
    {
      "cell_type": "code",
      "metadata": {
        "colab": {
          "base_uri": "https://localhost:8080/"
        },
        "id": "icYAMYYwcEH6",
        "outputId": "adc85b0f-45f5-4cf9-be3f-e32232f73191"
      },
      "source": [
        "from sklearn import metrics\n",
        "\n",
        "accuracy = metrics.accuracy_score(y_train, prediction_from_trained_data)\n",
        "\n",
        "print (\"Accuracy of our DT model is : {0:.4f}\".format(accuracy))"
      ],
      "execution_count": null,
      "outputs": [
        {
          "output_type": "stream",
          "text": [
            "Accuracy of our DT model is : 1.0000\n"
          ],
          "name": "stdout"
        }
      ]
    },
    {
      "cell_type": "code",
      "metadata": {
        "colab": {
          "base_uri": "https://localhost:8080/"
        },
        "id": "m3QMDoddcEH7",
        "outputId": "6ad3c734-c2ab-4a72-c51c-7312de4ea9b9"
      },
      "source": [
        "dt_predict_test = dt_model.predict(X_test)\n",
        "\n",
        "#get accuracy\n",
        "dt_accuracy_testdata = metrics.accuracy_score(y_test, dt_predict_test)\n",
        "\n",
        "#print accuracy\n",
        "print (\"Accuracy: {0:.4f}\".format(dt_accuracy_testdata))"
      ],
      "execution_count": null,
      "outputs": [
        {
          "output_type": "stream",
          "text": [
            "Accuracy: 0.7143\n"
          ],
          "name": "stdout"
        }
      ]
    },
    {
      "cell_type": "code",
      "metadata": {
        "colab": {
          "base_uri": "https://localhost:8080/"
        },
        "id": "LfMarmFbcEH7",
        "outputId": "d7c03f17-82c1-4897-ff01-23d9e9a2b4a8"
      },
      "source": [
        "print (\"Confusion Matrix for DT\")\n",
        "\n",
        "# labels for set 1=True to upper left and 0 = False to lower right\n",
        "print (\"{0}\".format(metrics.confusion_matrix(y_test, dt_predict_test, labels=[1, 0])))\n",
        "\n",
        "print (\"\")\n",
        "\n",
        "print (\"Classification Report\\n\")\n",
        "\n",
        "# labels for set 1=True to upper left and 0 = False to lower right\n",
        "print (\"{0}\".format(metrics.classification_report(y_test, dt_predict_test, labels=[ 1,0])))\n"
      ],
      "execution_count": null,
      "outputs": [
        {
          "output_type": "stream",
          "text": [
            "Confusion Matrix for DT\n",
            "[[ 52  28]\n",
            " [ 38 113]]\n",
            "\n",
            "Classification Report\n",
            "\n",
            "              precision    recall  f1-score   support\n",
            "\n",
            "           1       0.58      0.65      0.61        80\n",
            "           0       0.80      0.75      0.77       151\n",
            "\n",
            "   micro avg       0.71      0.71      0.71       231\n",
            "   macro avg       0.69      0.70      0.69       231\n",
            "weighted avg       0.72      0.71      0.72       231\n",
            "\n"
          ],
          "name": "stdout"
        }
      ]
    },
    {
      "cell_type": "code",
      "metadata": {
        "collapsed": true,
        "colab": {
          "base_uri": "https://localhost:8080/",
          "height": 301
        },
        "id": "6DYgTqO-cEH7",
        "outputId": "905ff3e9-1dbb-4010-eecf-b03fcc066012"
      },
      "source": [
        "import numpy as np\n",
        "import matplotlib.pyplot as plt\n",
        "\n",
        "# fpr, tpr\n",
        "naive_bayes = np.array([0.28, 0.52])\n",
        "logistic = np.array([0.54, 0.26])\n",
        "random_forest = np.array([0.43, 0.37])\n",
        "ann = np.array([0.36, 0.44])\n",
        "svm = np.array([0.46, 0.34])\n",
        "dt = np.array([0.52, 0.28])\n",
        "\n",
        "#plotting\n",
        "plt.scatter(naive_bayes[0], naive_bayes[1], label = 'Naive Bayes', facecolors='yellow', edgecolors='yellow', s=100)\n",
        "plt.scatter(logistic[0], logistic[1], label = 'Logistic Regression', facecolors='orange', edgecolors='orange', s=100)\n",
        "plt.scatter(random_forest[0], random_forest[1], label = 'Random Forest', facecolors='blue', edgecolors='black', s=100)\n",
        "plt.scatter(ann[0], ann[1], label = 'Artificial Neural Network', facecolors='gray', edgecolors='black', s=100)\n",
        "plt.scatter(svm[0], svm[1], label = 'Support Vector Machine', facecolors='red', edgecolors='red', s=100)\n",
        "plt.scatter(ann[0], dt[1], label = 'Dicision Tree Classifier', facecolors='green', edgecolors='yellow', s=100)\n",
        "\n",
        "plt.plot([0, 1], [0, 1], 'k--')\n",
        "plt.xlim([0.0, 1.0])\n",
        "plt.ylim([0.0, 1.0])\n",
        "plt.xlabel('False Positive Rate')\n",
        "plt.ylabel('True Positive Rate')\n",
        "plt.title('Receiver operating characteristic (ROC)')\n",
        "plt.legend(loc='upper left')\n",
        "\n",
        "plt.show()"
      ],
      "execution_count": null,
      "outputs": [
        {
          "output_type": "display_data",
          "data": {
            "image/png": "[encoded data removed]",
            "text/plain": [
              "<Figure size 432x288 with 1 Axes>"
            ]
          },
          "metadata": {
            "tags": [],
            "needs_background": "light"
          }
        }
      ]
    }
  ]
}